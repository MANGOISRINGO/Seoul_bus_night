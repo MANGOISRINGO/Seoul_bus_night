{
 "cells": [
  {
   "cell_type": "code",
   "execution_count": 1,
   "metadata": {},
   "outputs": [
    {
     "name": "stderr",
     "output_type": "stream",
     "text": [
      "C:\\Users\\user\\Anaconda3\\lib\\site-packages\\statsmodels\\tools\\_testing.py:19: FutureWarning: pandas.util.testing is deprecated. Use the functions in the public API at pandas.testing instead.\n",
      "  import pandas.util.testing as tm\n"
     ]
    }
   ],
   "source": [
    "import matplotlib.pyplot as plt\n",
    "import pandas as pd\n",
    "import seaborn as sns\n",
    "import glob\n",
    "import numpy as np\n",
    "plt.rcParams['font.family'] = 'Malgun Gothic' # Malgun Gothic을 적용\n",
    "plt.rcParams['axes.unicode_minus'] = False"
   ]
  },
  {
   "cell_type": "code",
   "execution_count": 2,
   "metadata": {},
   "outputs": [
    {
     "data": {
      "text/html": [
       "<div>\n",
       "<style scoped>\n",
       "    .dataframe tbody tr th:only-of-type {\n",
       "        vertical-align: middle;\n",
       "    }\n",
       "\n",
       "    .dataframe tbody tr th {\n",
       "        vertical-align: top;\n",
       "    }\n",
       "\n",
       "    .dataframe thead th {\n",
       "        text-align: right;\n",
       "    }\n",
       "</style>\n",
       "<table border=\"1\" class=\"dataframe\">\n",
       "  <thead>\n",
       "    <tr style=\"text-align: right;\">\n",
       "      <th></th>\n",
       "      <th>22시승차총승객수</th>\n",
       "      <th>22시하차총승객수</th>\n",
       "      <th>23시승차총승객수</th>\n",
       "      <th>23시하차총승객수</th>\n",
       "      <th>승차승객합</th>\n",
       "      <th>하차승객합</th>\n",
       "    </tr>\n",
       "    <tr>\n",
       "      <th>dname</th>\n",
       "      <th></th>\n",
       "      <th></th>\n",
       "      <th></th>\n",
       "      <th></th>\n",
       "      <th></th>\n",
       "      <th></th>\n",
       "    </tr>\n",
       "  </thead>\n",
       "  <tbody>\n",
       "    <tr>\n",
       "      <th>가락동</th>\n",
       "      <td>20282</td>\n",
       "      <td>28436</td>\n",
       "      <td>11987</td>\n",
       "      <td>17002</td>\n",
       "      <td>32269</td>\n",
       "      <td>45438</td>\n",
       "    </tr>\n",
       "    <tr>\n",
       "      <th>가락본동</th>\n",
       "      <td>8813</td>\n",
       "      <td>7509</td>\n",
       "      <td>3674</td>\n",
       "      <td>4476</td>\n",
       "      <td>12487</td>\n",
       "      <td>11985</td>\n",
       "    </tr>\n",
       "    <tr>\n",
       "      <th>가리봉동</th>\n",
       "      <td>2714</td>\n",
       "      <td>4068</td>\n",
       "      <td>1444</td>\n",
       "      <td>2458</td>\n",
       "      <td>4158</td>\n",
       "      <td>6526</td>\n",
       "    </tr>\n",
       "    <tr>\n",
       "      <th>가산동</th>\n",
       "      <td>30066</td>\n",
       "      <td>22658</td>\n",
       "      <td>14479</td>\n",
       "      <td>13445</td>\n",
       "      <td>44545</td>\n",
       "      <td>36103</td>\n",
       "    </tr>\n",
       "    <tr>\n",
       "      <th>가양동</th>\n",
       "      <td>25272</td>\n",
       "      <td>15744</td>\n",
       "      <td>11193</td>\n",
       "      <td>7633</td>\n",
       "      <td>36465</td>\n",
       "      <td>23377</td>\n",
       "    </tr>\n",
       "    <tr>\n",
       "      <th>...</th>\n",
       "      <td>...</td>\n",
       "      <td>...</td>\n",
       "      <td>...</td>\n",
       "      <td>...</td>\n",
       "      <td>...</td>\n",
       "      <td>...</td>\n",
       "    </tr>\n",
       "    <tr>\n",
       "      <th>효창동</th>\n",
       "      <td>3199</td>\n",
       "      <td>7373</td>\n",
       "      <td>1670</td>\n",
       "      <td>4081</td>\n",
       "      <td>4869</td>\n",
       "      <td>11454</td>\n",
       "    </tr>\n",
       "    <tr>\n",
       "      <th>후암동</th>\n",
       "      <td>3657</td>\n",
       "      <td>8385</td>\n",
       "      <td>1372</td>\n",
       "      <td>5003</td>\n",
       "      <td>5029</td>\n",
       "      <td>13388</td>\n",
       "    </tr>\n",
       "    <tr>\n",
       "      <th>휘경동</th>\n",
       "      <td>17225</td>\n",
       "      <td>18498</td>\n",
       "      <td>9263</td>\n",
       "      <td>10527</td>\n",
       "      <td>26488</td>\n",
       "      <td>29025</td>\n",
       "    </tr>\n",
       "    <tr>\n",
       "      <th>흑석동</th>\n",
       "      <td>18230</td>\n",
       "      <td>21711</td>\n",
       "      <td>10920</td>\n",
       "      <td>14292</td>\n",
       "      <td>29150</td>\n",
       "      <td>36003</td>\n",
       "    </tr>\n",
       "    <tr>\n",
       "      <th>흥인동</th>\n",
       "      <td>576</td>\n",
       "      <td>568</td>\n",
       "      <td>526</td>\n",
       "      <td>867</td>\n",
       "      <td>1102</td>\n",
       "      <td>1435</td>\n",
       "    </tr>\n",
       "  </tbody>\n",
       "</table>\n",
       "<p>350 rows × 6 columns</p>\n",
       "</div>"
      ],
      "text/plain": [
       "       22시승차총승객수  22시하차총승객수  23시승차총승객수  23시하차총승객수  승차승객합  하차승객합\n",
       "dname                                                          \n",
       "가락동        20282      28436      11987      17002  32269  45438\n",
       "가락본동        8813       7509       3674       4476  12487  11985\n",
       "가리봉동        2714       4068       1444       2458   4158   6526\n",
       "가산동        30066      22658      14479      13445  44545  36103\n",
       "가양동        25272      15744      11193       7633  36465  23377\n",
       "...          ...        ...        ...        ...    ...    ...\n",
       "효창동         3199       7373       1670       4081   4869  11454\n",
       "후암동         3657       8385       1372       5003   5029  13388\n",
       "휘경동        17225      18498       9263      10527  26488  29025\n",
       "흑석동        18230      21711      10920      14292  29150  36003\n",
       "흥인동          576        568        526        867   1102   1435\n",
       "\n",
       "[350 rows x 6 columns]"
      ]
     },
     "execution_count": 2,
     "metadata": {},
     "output_type": "execute_result"
    }
   ],
   "source": [
    "df = pd.read_csv('bi_8.csv', usecols=[1,2,3,4,5,6,7], index_col=0)\n",
    "df"
   ]
  },
  {
   "cell_type": "code",
   "execution_count": 3,
   "metadata": {
    "scrolled": true
   },
   "outputs": [
    {
     "data": {
      "text/html": [
       "<div>\n",
       "<style scoped>\n",
       "    .dataframe tbody tr th:only-of-type {\n",
       "        vertical-align: middle;\n",
       "    }\n",
       "\n",
       "    .dataframe tbody tr th {\n",
       "        vertical-align: top;\n",
       "    }\n",
       "\n",
       "    .dataframe thead th {\n",
       "        text-align: right;\n",
       "    }\n",
       "</style>\n",
       "<table border=\"1\" class=\"dataframe\">\n",
       "  <thead>\n",
       "    <tr style=\"text-align: right;\">\n",
       "      <th></th>\n",
       "      <th>22시승차총승객수</th>\n",
       "      <th>22시하차총승객수</th>\n",
       "      <th>23시승차총승객수</th>\n",
       "      <th>23시하차총승객수</th>\n",
       "      <th>승차승객합</th>\n",
       "      <th>하차승객합</th>\n",
       "    </tr>\n",
       "  </thead>\n",
       "  <tbody>\n",
       "    <tr>\n",
       "      <th>count</th>\n",
       "      <td>350.000000</td>\n",
       "      <td>350.000000</td>\n",
       "      <td>350.000000</td>\n",
       "      <td>350.000000</td>\n",
       "      <td>350.000000</td>\n",
       "      <td>350.000000</td>\n",
       "    </tr>\n",
       "    <tr>\n",
       "      <th>mean</th>\n",
       "      <td>14363.157143</td>\n",
       "      <td>14579.731429</td>\n",
       "      <td>7589.668571</td>\n",
       "      <td>8447.091429</td>\n",
       "      <td>21952.825714</td>\n",
       "      <td>23026.822857</td>\n",
       "    </tr>\n",
       "    <tr>\n",
       "      <th>std</th>\n",
       "      <td>19965.416939</td>\n",
       "      <td>17323.121797</td>\n",
       "      <td>10826.793876</td>\n",
       "      <td>10090.356126</td>\n",
       "      <td>30645.989659</td>\n",
       "      <td>27363.216328</td>\n",
       "    </tr>\n",
       "    <tr>\n",
       "      <th>min</th>\n",
       "      <td>0.000000</td>\n",
       "      <td>2.000000</td>\n",
       "      <td>0.000000</td>\n",
       "      <td>0.000000</td>\n",
       "      <td>0.000000</td>\n",
       "      <td>4.000000</td>\n",
       "    </tr>\n",
       "    <tr>\n",
       "      <th>25%</th>\n",
       "      <td>2531.000000</td>\n",
       "      <td>3087.500000</td>\n",
       "      <td>1191.000000</td>\n",
       "      <td>1602.250000</td>\n",
       "      <td>3691.250000</td>\n",
       "      <td>4820.500000</td>\n",
       "    </tr>\n",
       "    <tr>\n",
       "      <th>50%</th>\n",
       "      <td>6791.000000</td>\n",
       "      <td>8366.000000</td>\n",
       "      <td>3329.000000</td>\n",
       "      <td>4962.500000</td>\n",
       "      <td>10165.000000</td>\n",
       "      <td>13331.000000</td>\n",
       "    </tr>\n",
       "    <tr>\n",
       "      <th>75%</th>\n",
       "      <td>18645.500000</td>\n",
       "      <td>19080.750000</td>\n",
       "      <td>9931.500000</td>\n",
       "      <td>11132.500000</td>\n",
       "      <td>29073.000000</td>\n",
       "      <td>29160.000000</td>\n",
       "    </tr>\n",
       "    <tr>\n",
       "      <th>max</th>\n",
       "      <td>146934.000000</td>\n",
       "      <td>99706.000000</td>\n",
       "      <td>88750.000000</td>\n",
       "      <td>63586.000000</td>\n",
       "      <td>235684.000000</td>\n",
       "      <td>163292.000000</td>\n",
       "    </tr>\n",
       "  </tbody>\n",
       "</table>\n",
       "</div>"
      ],
      "text/plain": [
       "           22시승차총승객수     22시하차총승객수     23시승차총승객수     23시하차총승객수          승차승객합  \\\n",
       "count     350.000000    350.000000    350.000000    350.000000     350.000000   \n",
       "mean    14363.157143  14579.731429   7589.668571   8447.091429   21952.825714   \n",
       "std     19965.416939  17323.121797  10826.793876  10090.356126   30645.989659   \n",
       "min         0.000000      2.000000      0.000000      0.000000       0.000000   \n",
       "25%      2531.000000   3087.500000   1191.000000   1602.250000    3691.250000   \n",
       "50%      6791.000000   8366.000000   3329.000000   4962.500000   10165.000000   \n",
       "75%     18645.500000  19080.750000   9931.500000  11132.500000   29073.000000   \n",
       "max    146934.000000  99706.000000  88750.000000  63586.000000  235684.000000   \n",
       "\n",
       "               하차승객합  \n",
       "count     350.000000  \n",
       "mean    23026.822857  \n",
       "std     27363.216328  \n",
       "min         4.000000  \n",
       "25%      4820.500000  \n",
       "50%     13331.000000  \n",
       "75%     29160.000000  \n",
       "max    163292.000000  "
      ]
     },
     "execution_count": 3,
     "metadata": {},
     "output_type": "execute_result"
    }
   ],
   "source": [
    "df.describe()"
   ]
  },
  {
   "cell_type": "code",
   "execution_count": 4,
   "metadata": {},
   "outputs": [],
   "source": [
    "from sklearn.preprocessing import MinMaxScaler\n",
    "scaler = MinMaxScaler()"
   ]
  },
  {
   "cell_type": "code",
   "execution_count": 5,
   "metadata": {},
   "outputs": [
    {
     "data": {
      "text/plain": [
       "MinMaxScaler()"
      ]
     },
     "execution_count": 5,
     "metadata": {},
     "output_type": "execute_result"
    }
   ],
   "source": [
    "scaler.fit(df)"
   ]
  },
  {
   "cell_type": "code",
   "execution_count": 6,
   "metadata": {},
   "outputs": [
    {
     "data": {
      "text/plain": [
       "(350, 6)"
      ]
     },
     "execution_count": 6,
     "metadata": {},
     "output_type": "execute_result"
    }
   ],
   "source": [
    "df_scaled = scaler.transform(df)\n",
    "df_scaled.shape"
   ]
  },
  {
   "cell_type": "code",
   "execution_count": 8,
   "metadata": {},
   "outputs": [
    {
     "data": {
      "text/plain": [
       "array([[0.13803476, 0.28518415, 0.13506479, 0.2673859 , 0.13691638,\n",
       "        0.27824457],\n",
       "       [0.05997931, 0.07529287, 0.04139718, 0.07039285, 0.05298196,\n",
       "        0.07337343],\n",
       "       [0.01847088, 0.04078071, 0.01627042, 0.03865631, 0.01764227,\n",
       "        0.0399417 ],\n",
       "       ...,\n",
       "       [0.1172295 , 0.18550911, 0.10437183, 0.16555531, 0.11238777,\n",
       "        0.17772892],\n",
       "       [0.12406931, 0.21773449, 0.12304225, 0.22476646, 0.12368256,\n",
       "        0.22046323],\n",
       "       [0.00392013, 0.0056768 , 0.00592676, 0.01363508, 0.00467575,\n",
       "        0.00876366]])"
      ]
     },
     "execution_count": 8,
     "metadata": {},
     "output_type": "execute_result"
    }
   ],
   "source": [
    "df_scaled"
   ]
  },
  {
   "cell_type": "code",
   "execution_count": 9,
   "metadata": {},
   "outputs": [],
   "source": [
    "df_scaled = df_scaled.transpose()"
   ]
  },
  {
   "cell_type": "code",
   "execution_count": 10,
   "metadata": {},
   "outputs": [
    {
     "data": {
      "text/plain": [
       "(6, 350)"
      ]
     },
     "execution_count": 10,
     "metadata": {},
     "output_type": "execute_result"
    }
   ],
   "source": [
    "df_scaled.shape"
   ]
  },
  {
   "cell_type": "code",
   "execution_count": 18,
   "metadata": {},
   "outputs": [],
   "source": [
    "df_scaled_df = pd.DataFrame({\n",
    "    '22시승차총승객수' : df_scaled[0],\n",
    "    '22시하차총승객수' : df_scaled[1],\n",
    "    '23시승차총승객수' : df_scaled[2],\n",
    "    '23시하차총승객수' : df_scaled[3],\n",
    "    '승차승객합' : df_scaled[4],\n",
    "    '하차승객합' : df_scaled[5]}, index = df.index\n",
    ")"
   ]
  },
  {
   "cell_type": "code",
   "execution_count": 19,
   "metadata": {},
   "outputs": [
    {
     "data": {
      "text/html": [
       "<div>\n",
       "<style scoped>\n",
       "    .dataframe tbody tr th:only-of-type {\n",
       "        vertical-align: middle;\n",
       "    }\n",
       "\n",
       "    .dataframe tbody tr th {\n",
       "        vertical-align: top;\n",
       "    }\n",
       "\n",
       "    .dataframe thead th {\n",
       "        text-align: right;\n",
       "    }\n",
       "</style>\n",
       "<table border=\"1\" class=\"dataframe\">\n",
       "  <thead>\n",
       "    <tr style=\"text-align: right;\">\n",
       "      <th></th>\n",
       "      <th>22시승차총승객수</th>\n",
       "      <th>22시하차총승객수</th>\n",
       "      <th>23시승차총승객수</th>\n",
       "      <th>23시하차총승객수</th>\n",
       "      <th>승차승객합</th>\n",
       "      <th>하차승객합</th>\n",
       "    </tr>\n",
       "    <tr>\n",
       "      <th>dname</th>\n",
       "      <th></th>\n",
       "      <th></th>\n",
       "      <th></th>\n",
       "      <th></th>\n",
       "      <th></th>\n",
       "      <th></th>\n",
       "    </tr>\n",
       "  </thead>\n",
       "  <tbody>\n",
       "    <tr>\n",
       "      <th>가락동</th>\n",
       "      <td>0.138035</td>\n",
       "      <td>0.285184</td>\n",
       "      <td>0.135065</td>\n",
       "      <td>0.267386</td>\n",
       "      <td>0.136916</td>\n",
       "      <td>0.278245</td>\n",
       "    </tr>\n",
       "    <tr>\n",
       "      <th>가락본동</th>\n",
       "      <td>0.059979</td>\n",
       "      <td>0.075293</td>\n",
       "      <td>0.041397</td>\n",
       "      <td>0.070393</td>\n",
       "      <td>0.052982</td>\n",
       "      <td>0.073373</td>\n",
       "    </tr>\n",
       "    <tr>\n",
       "      <th>가리봉동</th>\n",
       "      <td>0.018471</td>\n",
       "      <td>0.040781</td>\n",
       "      <td>0.016270</td>\n",
       "      <td>0.038656</td>\n",
       "      <td>0.017642</td>\n",
       "      <td>0.039942</td>\n",
       "    </tr>\n",
       "    <tr>\n",
       "      <th>가산동</th>\n",
       "      <td>0.204622</td>\n",
       "      <td>0.227233</td>\n",
       "      <td>0.163144</td>\n",
       "      <td>0.211446</td>\n",
       "      <td>0.189003</td>\n",
       "      <td>0.221076</td>\n",
       "    </tr>\n",
       "    <tr>\n",
       "      <th>가양동</th>\n",
       "      <td>0.171996</td>\n",
       "      <td>0.157887</td>\n",
       "      <td>0.126118</td>\n",
       "      <td>0.120042</td>\n",
       "      <td>0.154720</td>\n",
       "      <td>0.143140</td>\n",
       "    </tr>\n",
       "    <tr>\n",
       "      <th>...</th>\n",
       "      <td>...</td>\n",
       "      <td>...</td>\n",
       "      <td>...</td>\n",
       "      <td>...</td>\n",
       "      <td>...</td>\n",
       "      <td>...</td>\n",
       "    </tr>\n",
       "    <tr>\n",
       "      <th>효창동</th>\n",
       "      <td>0.021772</td>\n",
       "      <td>0.073929</td>\n",
       "      <td>0.018817</td>\n",
       "      <td>0.064181</td>\n",
       "      <td>0.020659</td>\n",
       "      <td>0.070122</td>\n",
       "    </tr>\n",
       "    <tr>\n",
       "      <th>후암동</th>\n",
       "      <td>0.024889</td>\n",
       "      <td>0.084079</td>\n",
       "      <td>0.015459</td>\n",
       "      <td>0.078681</td>\n",
       "      <td>0.021338</td>\n",
       "      <td>0.081966</td>\n",
       "    </tr>\n",
       "    <tr>\n",
       "      <th>휘경동</th>\n",
       "      <td>0.117230</td>\n",
       "      <td>0.185509</td>\n",
       "      <td>0.104372</td>\n",
       "      <td>0.165555</td>\n",
       "      <td>0.112388</td>\n",
       "      <td>0.177729</td>\n",
       "    </tr>\n",
       "    <tr>\n",
       "      <th>흑석동</th>\n",
       "      <td>0.124069</td>\n",
       "      <td>0.217734</td>\n",
       "      <td>0.123042</td>\n",
       "      <td>0.224766</td>\n",
       "      <td>0.123683</td>\n",
       "      <td>0.220463</td>\n",
       "    </tr>\n",
       "    <tr>\n",
       "      <th>흥인동</th>\n",
       "      <td>0.003920</td>\n",
       "      <td>0.005677</td>\n",
       "      <td>0.005927</td>\n",
       "      <td>0.013635</td>\n",
       "      <td>0.004676</td>\n",
       "      <td>0.008764</td>\n",
       "    </tr>\n",
       "  </tbody>\n",
       "</table>\n",
       "<p>350 rows × 6 columns</p>\n",
       "</div>"
      ],
      "text/plain": [
       "       22시승차총승객수  22시하차총승객수  23시승차총승객수  23시하차총승객수     승차승객합     하차승객합\n",
       "dname                                                                \n",
       "가락동     0.138035   0.285184   0.135065   0.267386  0.136916  0.278245\n",
       "가락본동    0.059979   0.075293   0.041397   0.070393  0.052982  0.073373\n",
       "가리봉동    0.018471   0.040781   0.016270   0.038656  0.017642  0.039942\n",
       "가산동     0.204622   0.227233   0.163144   0.211446  0.189003  0.221076\n",
       "가양동     0.171996   0.157887   0.126118   0.120042  0.154720  0.143140\n",
       "...          ...        ...        ...        ...       ...       ...\n",
       "효창동     0.021772   0.073929   0.018817   0.064181  0.020659  0.070122\n",
       "후암동     0.024889   0.084079   0.015459   0.078681  0.021338  0.081966\n",
       "휘경동     0.117230   0.185509   0.104372   0.165555  0.112388  0.177729\n",
       "흑석동     0.124069   0.217734   0.123042   0.224766  0.123683  0.220463\n",
       "흥인동     0.003920   0.005677   0.005927   0.013635  0.004676  0.008764\n",
       "\n",
       "[350 rows x 6 columns]"
      ]
     },
     "execution_count": 19,
     "metadata": {},
     "output_type": "execute_result"
    }
   ],
   "source": [
    "df_scaled_df"
   ]
  },
  {
   "cell_type": "code",
   "execution_count": 20,
   "metadata": {},
   "outputs": [],
   "source": [
    "import matplotlib.pyplot as plt"
   ]
  },
  {
   "cell_type": "code",
   "execution_count": 21,
   "metadata": {},
   "outputs": [
    {
     "data": {
      "image/png": "[encoded data removed]",
      "text/plain": [
       "<Figure size 720x720 with 2 Axes>"
      ]
     },
     "metadata": {
      "needs_background": "light"
     },
     "output_type": "display_data"
    }
   ],
   "source": [
    "plt.figure(figsize = (10, 10))\n",
    "plt.scatter(df_scaled_df['승차승객합'], df_scaled_df['하차승객합'], \n",
    "            c = (df_scaled_df['승차승객합'] + df_scaled_df['하차승객합']), s = 50)\n",
    "plt.colorbar()\n",
    "plt.xlabel('승차승객합')\n",
    "plt.ylabel('하차승객합')\n",
    "plt.show()"
   ]
  },
  {
   "cell_type": "code",
   "execution_count": 22,
   "metadata": {},
   "outputs": [
    {
     "data": {
      "text/html": [
       "<div>\n",
       "<style scoped>\n",
       "    .dataframe tbody tr th:only-of-type {\n",
       "        vertical-align: middle;\n",
       "    }\n",
       "\n",
       "    .dataframe tbody tr th {\n",
       "        vertical-align: top;\n",
       "    }\n",
       "\n",
       "    .dataframe thead th {\n",
       "        text-align: right;\n",
       "    }\n",
       "</style>\n",
       "<table border=\"1\" class=\"dataframe\">\n",
       "  <thead>\n",
       "    <tr style=\"text-align: right;\">\n",
       "      <th></th>\n",
       "      <th>22시승차총승객수</th>\n",
       "      <th>22시하차총승객수</th>\n",
       "      <th>23시승차총승객수</th>\n",
       "      <th>23시하차총승객수</th>\n",
       "      <th>승차승객합</th>\n",
       "      <th>하차승객합</th>\n",
       "      <th>popular</th>\n",
       "    </tr>\n",
       "    <tr>\n",
       "      <th>dname</th>\n",
       "      <th></th>\n",
       "      <th></th>\n",
       "      <th></th>\n",
       "      <th></th>\n",
       "      <th></th>\n",
       "      <th></th>\n",
       "      <th></th>\n",
       "    </tr>\n",
       "  </thead>\n",
       "  <tbody>\n",
       "    <tr>\n",
       "      <th>신림동</th>\n",
       "      <td>1.000000</td>\n",
       "      <td>1.000000</td>\n",
       "      <td>1.000000</td>\n",
       "      <td>1.000000</td>\n",
       "      <td>1.000000</td>\n",
       "      <td>1.000000</td>\n",
       "      <td>1.000000</td>\n",
       "    </tr>\n",
       "    <tr>\n",
       "      <th>구로동</th>\n",
       "      <td>0.810275</td>\n",
       "      <td>0.800861</td>\n",
       "      <td>0.829172</td>\n",
       "      <td>0.668087</td>\n",
       "      <td>0.817391</td>\n",
       "      <td>0.749155</td>\n",
       "      <td>0.783273</td>\n",
       "    </tr>\n",
       "    <tr>\n",
       "      <th>목동</th>\n",
       "      <td>0.748921</td>\n",
       "      <td>0.859785</td>\n",
       "      <td>0.535639</td>\n",
       "      <td>0.741515</td>\n",
       "      <td>0.668607</td>\n",
       "      <td>0.813728</td>\n",
       "      <td>0.741168</td>\n",
       "    </tr>\n",
       "    <tr>\n",
       "      <th>역삼동</th>\n",
       "      <td>0.789987</td>\n",
       "      <td>0.712369</td>\n",
       "      <td>0.707966</td>\n",
       "      <td>0.573727</td>\n",
       "      <td>0.759101</td>\n",
       "      <td>0.658377</td>\n",
       "      <td>0.708739</td>\n",
       "    </tr>\n",
       "    <tr>\n",
       "      <th>봉천동</th>\n",
       "      <td>0.505009</td>\n",
       "      <td>0.741234</td>\n",
       "      <td>0.501701</td>\n",
       "      <td>0.712877</td>\n",
       "      <td>0.503764</td>\n",
       "      <td>0.730188</td>\n",
       "      <td>0.616976</td>\n",
       "    </tr>\n",
       "    <tr>\n",
       "      <th>...</th>\n",
       "      <td>...</td>\n",
       "      <td>...</td>\n",
       "      <td>...</td>\n",
       "      <td>...</td>\n",
       "      <td>...</td>\n",
       "      <td>...</td>\n",
       "      <td>...</td>\n",
       "    </tr>\n",
       "    <tr>\n",
       "      <th>동빙고동</th>\n",
       "      <td>0.000218</td>\n",
       "      <td>0.000171</td>\n",
       "      <td>0.000000</td>\n",
       "      <td>0.000000</td>\n",
       "      <td>0.000136</td>\n",
       "      <td>0.000092</td>\n",
       "      <td>0.000114</td>\n",
       "    </tr>\n",
       "    <tr>\n",
       "      <th>홍파동</th>\n",
       "      <td>0.000048</td>\n",
       "      <td>0.000221</td>\n",
       "      <td>0.000011</td>\n",
       "      <td>0.000047</td>\n",
       "      <td>0.000034</td>\n",
       "      <td>0.000141</td>\n",
       "      <td>0.000087</td>\n",
       "    </tr>\n",
       "    <tr>\n",
       "      <th>현저동</th>\n",
       "      <td>0.000000</td>\n",
       "      <td>0.000100</td>\n",
       "      <td>0.000000</td>\n",
       "      <td>0.000204</td>\n",
       "      <td>0.000000</td>\n",
       "      <td>0.000129</td>\n",
       "      <td>0.000064</td>\n",
       "    </tr>\n",
       "    <tr>\n",
       "      <th>구기동</th>\n",
       "      <td>0.000000</td>\n",
       "      <td>0.000201</td>\n",
       "      <td>0.000000</td>\n",
       "      <td>0.000000</td>\n",
       "      <td>0.000000</td>\n",
       "      <td>0.000110</td>\n",
       "      <td>0.000055</td>\n",
       "    </tr>\n",
       "    <tr>\n",
       "      <th>운니동</th>\n",
       "      <td>0.000068</td>\n",
       "      <td>0.000020</td>\n",
       "      <td>0.000000</td>\n",
       "      <td>0.000031</td>\n",
       "      <td>0.000042</td>\n",
       "      <td>0.000012</td>\n",
       "      <td>0.000027</td>\n",
       "    </tr>\n",
       "  </tbody>\n",
       "</table>\n",
       "<p>350 rows × 7 columns</p>\n",
       "</div>"
      ],
      "text/plain": [
       "       22시승차총승객수  22시하차총승객수  23시승차총승객수  23시하차총승객수     승차승객합     하차승객합  \\\n",
       "dname                                                                   \n",
       "신림동     1.000000   1.000000   1.000000   1.000000  1.000000  1.000000   \n",
       "구로동     0.810275   0.800861   0.829172   0.668087  0.817391  0.749155   \n",
       "목동      0.748921   0.859785   0.535639   0.741515  0.668607  0.813728   \n",
       "역삼동     0.789987   0.712369   0.707966   0.573727  0.759101  0.658377   \n",
       "봉천동     0.505009   0.741234   0.501701   0.712877  0.503764  0.730188   \n",
       "...          ...        ...        ...        ...       ...       ...   \n",
       "동빙고동    0.000218   0.000171   0.000000   0.000000  0.000136  0.000092   \n",
       "홍파동     0.000048   0.000221   0.000011   0.000047  0.000034  0.000141   \n",
       "현저동     0.000000   0.000100   0.000000   0.000204  0.000000  0.000129   \n",
       "구기동     0.000000   0.000201   0.000000   0.000000  0.000000  0.000110   \n",
       "운니동     0.000068   0.000020   0.000000   0.000031  0.000042  0.000012   \n",
       "\n",
       "        popular  \n",
       "dname            \n",
       "신림동    1.000000  \n",
       "구로동    0.783273  \n",
       "목동     0.741168  \n",
       "역삼동    0.708739  \n",
       "봉천동    0.616976  \n",
       "...         ...  \n",
       "동빙고동   0.000114  \n",
       "홍파동    0.000087  \n",
       "현저동    0.000064  \n",
       "구기동    0.000055  \n",
       "운니동    0.000027  \n",
       "\n",
       "[350 rows x 7 columns]"
      ]
     },
     "execution_count": 22,
     "metadata": {},
     "output_type": "execute_result"
    }
   ],
   "source": [
    "df_scaled_df['popular'] = (df_scaled_df['승차승객합'] + df_scaled_df['하차승객합']) / 2\n",
    "df_sort = df_scaled_df.sort_values(by = 'popular', ascending=False)\n",
    "df_sort"
   ]
  },
  {
   "cell_type": "code",
   "execution_count": 33,
   "metadata": {},
   "outputs": [
    {
     "data": {
      "image/png": "[encoded data removed]",
      "text/plain": [
       "<Figure size 720x648 with 2 Axes>"
      ]
     },
     "metadata": {
      "needs_background": "light"
     },
     "output_type": "display_data"
    }
   ],
   "source": [
    "plt.figure(figsize = (10, 9))\n",
    "plt.scatter(df_sort['승차승객합'], df_sort['하차승객합'], \n",
    "            c = (df_sort['승차승객합'] + df_sort['하차승객합']), s = 50)\n",
    "\n",
    "for n in range(20):\n",
    "    plt.text(df_sort['승차승객합'][n]*1.01, df_sort['하차승객합'][n]*(0.97), df_sort.index[n], fontsize = 11)\n",
    "\n",
    "plt.colorbar()\n",
    "plt.xlabel('승차승객합')\n",
    "plt.ylabel('하차승객합')\n",
    "plt.show()"
   ]
  },
  {
   "cell_type": "code",
   "execution_count": 34,
   "metadata": {},
   "outputs": [
    {
     "data": {
      "text/html": [
       "<div>\n",
       "<style scoped>\n",
       "    .dataframe tbody tr th:only-of-type {\n",
       "        vertical-align: middle;\n",
       "    }\n",
       "\n",
       "    .dataframe tbody tr th {\n",
       "        vertical-align: top;\n",
       "    }\n",
       "\n",
       "    .dataframe thead th {\n",
       "        text-align: right;\n",
       "    }\n",
       "</style>\n",
       "<table border=\"1\" class=\"dataframe\">\n",
       "  <thead>\n",
       "    <tr style=\"text-align: right;\">\n",
       "      <th></th>\n",
       "      <th>22시승차총승객수</th>\n",
       "      <th>22시하차총승객수</th>\n",
       "      <th>23시승차총승객수</th>\n",
       "      <th>23시하차총승객수</th>\n",
       "      <th>승차승객합</th>\n",
       "      <th>하차승객합</th>\n",
       "    </tr>\n",
       "    <tr>\n",
       "      <th>dname</th>\n",
       "      <th></th>\n",
       "      <th></th>\n",
       "      <th></th>\n",
       "      <th></th>\n",
       "      <th></th>\n",
       "      <th></th>\n",
       "    </tr>\n",
       "  </thead>\n",
       "  <tbody>\n",
       "    <tr>\n",
       "      <th>가락동</th>\n",
       "      <td>20282</td>\n",
       "      <td>28436</td>\n",
       "      <td>11987</td>\n",
       "      <td>17002</td>\n",
       "      <td>32269</td>\n",
       "      <td>45438</td>\n",
       "    </tr>\n",
       "    <tr>\n",
       "      <th>가락본동</th>\n",
       "      <td>8813</td>\n",
       "      <td>7509</td>\n",
       "      <td>3674</td>\n",
       "      <td>4476</td>\n",
       "      <td>12487</td>\n",
       "      <td>11985</td>\n",
       "    </tr>\n",
       "    <tr>\n",
       "      <th>가리봉동</th>\n",
       "      <td>2714</td>\n",
       "      <td>4068</td>\n",
       "      <td>1444</td>\n",
       "      <td>2458</td>\n",
       "      <td>4158</td>\n",
       "      <td>6526</td>\n",
       "    </tr>\n",
       "    <tr>\n",
       "      <th>가산동</th>\n",
       "      <td>30066</td>\n",
       "      <td>22658</td>\n",
       "      <td>14479</td>\n",
       "      <td>13445</td>\n",
       "      <td>44545</td>\n",
       "      <td>36103</td>\n",
       "    </tr>\n",
       "    <tr>\n",
       "      <th>가양동</th>\n",
       "      <td>25272</td>\n",
       "      <td>15744</td>\n",
       "      <td>11193</td>\n",
       "      <td>7633</td>\n",
       "      <td>36465</td>\n",
       "      <td>23377</td>\n",
       "    </tr>\n",
       "    <tr>\n",
       "      <th>...</th>\n",
       "      <td>...</td>\n",
       "      <td>...</td>\n",
       "      <td>...</td>\n",
       "      <td>...</td>\n",
       "      <td>...</td>\n",
       "      <td>...</td>\n",
       "    </tr>\n",
       "    <tr>\n",
       "      <th>효창동</th>\n",
       "      <td>3199</td>\n",
       "      <td>7373</td>\n",
       "      <td>1670</td>\n",
       "      <td>4081</td>\n",
       "      <td>4869</td>\n",
       "      <td>11454</td>\n",
       "    </tr>\n",
       "    <tr>\n",
       "      <th>후암동</th>\n",
       "      <td>3657</td>\n",
       "      <td>8385</td>\n",
       "      <td>1372</td>\n",
       "      <td>5003</td>\n",
       "      <td>5029</td>\n",
       "      <td>13388</td>\n",
       "    </tr>\n",
       "    <tr>\n",
       "      <th>휘경동</th>\n",
       "      <td>17225</td>\n",
       "      <td>18498</td>\n",
       "      <td>9263</td>\n",
       "      <td>10527</td>\n",
       "      <td>26488</td>\n",
       "      <td>29025</td>\n",
       "    </tr>\n",
       "    <tr>\n",
       "      <th>흑석동</th>\n",
       "      <td>18230</td>\n",
       "      <td>21711</td>\n",
       "      <td>10920</td>\n",
       "      <td>14292</td>\n",
       "      <td>29150</td>\n",
       "      <td>36003</td>\n",
       "    </tr>\n",
       "    <tr>\n",
       "      <th>흥인동</th>\n",
       "      <td>576</td>\n",
       "      <td>568</td>\n",
       "      <td>526</td>\n",
       "      <td>867</td>\n",
       "      <td>1102</td>\n",
       "      <td>1435</td>\n",
       "    </tr>\n",
       "  </tbody>\n",
       "</table>\n",
       "<p>350 rows × 6 columns</p>\n",
       "</div>"
      ],
      "text/plain": [
       "       22시승차총승객수  22시하차총승객수  23시승차총승객수  23시하차총승객수  승차승객합  하차승객합\n",
       "dname                                                          \n",
       "가락동        20282      28436      11987      17002  32269  45438\n",
       "가락본동        8813       7509       3674       4476  12487  11985\n",
       "가리봉동        2714       4068       1444       2458   4158   6526\n",
       "가산동        30066      22658      14479      13445  44545  36103\n",
       "가양동        25272      15744      11193       7633  36465  23377\n",
       "...          ...        ...        ...        ...    ...    ...\n",
       "효창동         3199       7373       1670       4081   4869  11454\n",
       "후암동         3657       8385       1372       5003   5029  13388\n",
       "휘경동        17225      18498       9263      10527  26488  29025\n",
       "흑석동        18230      21711      10920      14292  29150  36003\n",
       "흥인동          576        568        526        867   1102   1435\n",
       "\n",
       "[350 rows x 6 columns]"
      ]
     },
     "execution_count": 34,
     "metadata": {},
     "output_type": "execute_result"
    }
   ],
   "source": [
    "# standard scaler\n",
    "from sklearn.preprocessing import StandardScaler\n",
    "scaler2 = StandardScaler()\n",
    "\n",
    "df = pd.read_csv('bi_8.csv', usecols=[1,2,3,4,5,6,7], index_col=0)\n",
    "df"
   ]
  },
  {
   "cell_type": "code",
   "execution_count": 35,
   "metadata": {},
   "outputs": [
    {
     "data": {
      "text/plain": [
       "StandardScaler()"
      ]
     },
     "execution_count": 35,
     "metadata": {},
     "output_type": "execute_result"
    }
   ],
   "source": [
    "scaler2.fit(df)"
   ]
  },
  {
   "cell_type": "code",
   "execution_count": 36,
   "metadata": {},
   "outputs": [
    {
     "data": {
      "text/plain": [
       "(350, 6)"
      ]
     },
     "execution_count": 36,
     "metadata": {},
     "output_type": "execute_result"
    }
   ],
   "source": [
    "df_scaled2 = scaler2.transform(df)\n",
    "df_scaled2.shape"
   ]
  },
  {
   "cell_type": "code",
   "execution_count": 53,
   "metadata": {},
   "outputs": [
    {
     "data": {
      "text/plain": [
       "numpy.ndarray"
      ]
     },
     "execution_count": 53,
     "metadata": {},
     "output_type": "execute_result"
    }
   ],
   "source": [
    "type(df_scaled2)"
   ]
  },
  {
   "cell_type": "code",
   "execution_count": 37,
   "metadata": {},
   "outputs": [],
   "source": [
    "df_scaled2 = df_scaled2.transpose()"
   ]
  },
  {
   "cell_type": "code",
   "execution_count": 38,
   "metadata": {},
   "outputs": [],
   "source": [
    "df_scaled_df2 = pd.DataFrame({\n",
    "    '22시승차총승객수' : df_scaled2[0],\n",
    "    '22시하차총승객수' : df_scaled2[1],\n",
    "    '23시승차총승객수' : df_scaled2[2],\n",
    "    '23시하차총승객수' : df_scaled2[3],\n",
    "    '승차승객합' : df_scaled2[4],\n",
    "    '하차승객합' : df_scaled2[5]\n",
    "}, index = df.index\n",
    ")"
   ]
  },
  {
   "cell_type": "code",
   "execution_count": 39,
   "metadata": {},
   "outputs": [
    {
     "data": {
      "image/png": "[encoded data removed]",
      "text/plain": [
       "<Figure size 720x720 with 2 Axes>"
      ]
     },
     "metadata": {
      "needs_background": "light"
     },
     "output_type": "display_data"
    }
   ],
   "source": [
    "plt.figure(figsize = (10, 10))\n",
    "plt.scatter(df_scaled_df2['승차승객합'], df_scaled_df2['하차승객합'], \n",
    "            c = (df_scaled_df2['승차승객합'] + df_scaled_df2['하차승객합']), s = 50)\n",
    "plt.colorbar()\n",
    "plt.xlabel('승차승객합')\n",
    "plt.ylabel('하차승객합')\n",
    "plt.show()"
   ]
  },
  {
   "cell_type": "code",
   "execution_count": 40,
   "metadata": {},
   "outputs": [
    {
     "data": {
      "text/html": [
       "<div>\n",
       "<style scoped>\n",
       "    .dataframe tbody tr th:only-of-type {\n",
       "        vertical-align: middle;\n",
       "    }\n",
       "\n",
       "    .dataframe tbody tr th {\n",
       "        vertical-align: top;\n",
       "    }\n",
       "\n",
       "    .dataframe thead th {\n",
       "        text-align: right;\n",
       "    }\n",
       "</style>\n",
       "<table border=\"1\" class=\"dataframe\">\n",
       "  <thead>\n",
       "    <tr style=\"text-align: right;\">\n",
       "      <th></th>\n",
       "      <th>22시승차총승객수</th>\n",
       "      <th>22시하차총승객수</th>\n",
       "      <th>23시승차총승객수</th>\n",
       "      <th>23시하차총승객수</th>\n",
       "      <th>승차승객합</th>\n",
       "      <th>하차승객합</th>\n",
       "      <th>popular</th>\n",
       "    </tr>\n",
       "    <tr>\n",
       "      <th>dname</th>\n",
       "      <th></th>\n",
       "      <th></th>\n",
       "      <th></th>\n",
       "      <th></th>\n",
       "      <th></th>\n",
       "      <th></th>\n",
       "      <th></th>\n",
       "    </tr>\n",
       "  </thead>\n",
       "  <tbody>\n",
       "    <tr>\n",
       "      <th>신림동</th>\n",
       "      <td>6.649530</td>\n",
       "      <td>4.921061</td>\n",
       "      <td>7.506980</td>\n",
       "      <td>5.472339</td>\n",
       "      <td>6.984182</td>\n",
       "      <td>5.133387</td>\n",
       "      <td>6.058784</td>\n",
       "    </tr>\n",
       "    <tr>\n",
       "      <th>구로동</th>\n",
       "      <td>5.251267</td>\n",
       "      <td>3.773264</td>\n",
       "      <td>6.104653</td>\n",
       "      <td>3.377743</td>\n",
       "      <td>5.577811</td>\n",
       "      <td>3.634344</td>\n",
       "      <td>4.606078</td>\n",
       "    </tr>\n",
       "    <tr>\n",
       "      <th>목동</th>\n",
       "      <td>4.799089</td>\n",
       "      <td>4.112892</td>\n",
       "      <td>3.695048</td>\n",
       "      <td>3.841125</td>\n",
       "      <td>4.431945</td>\n",
       "      <td>4.020231</td>\n",
       "      <td>4.226088</td>\n",
       "    </tr>\n",
       "    <tr>\n",
       "      <th>역삼동</th>\n",
       "      <td>5.101745</td>\n",
       "      <td>3.263216</td>\n",
       "      <td>5.109677</td>\n",
       "      <td>2.782265</td>\n",
       "      <td>5.128889</td>\n",
       "      <td>3.091856</td>\n",
       "      <td>4.110372</td>\n",
       "    </tr>\n",
       "    <tr>\n",
       "      <th>봉천동</th>\n",
       "      <td>3.001466</td>\n",
       "      <td>3.429590</td>\n",
       "      <td>3.416451</td>\n",
       "      <td>3.660397</td>\n",
       "      <td>3.162395</td>\n",
       "      <td>3.521001</td>\n",
       "      <td>3.341698</td>\n",
       "    </tr>\n",
       "    <tr>\n",
       "      <th>...</th>\n",
       "      <td>...</td>\n",
       "      <td>...</td>\n",
       "      <td>...</td>\n",
       "      <td>...</td>\n",
       "      <td>...</td>\n",
       "      <td>...</td>\n",
       "      <td>...</td>\n",
       "    </tr>\n",
       "    <tr>\n",
       "      <th>동빙고동</th>\n",
       "      <td>-0.718827</td>\n",
       "      <td>-0.841741</td>\n",
       "      <td>-0.702012</td>\n",
       "      <td>-0.838344</td>\n",
       "      <td>-0.716316</td>\n",
       "      <td>-0.842034</td>\n",
       "      <td>-0.779175</td>\n",
       "    </tr>\n",
       "    <tr>\n",
       "      <th>홍파동</th>\n",
       "      <td>-0.720081</td>\n",
       "      <td>-0.841452</td>\n",
       "      <td>-0.701919</td>\n",
       "      <td>-0.838046</td>\n",
       "      <td>-0.717100</td>\n",
       "      <td>-0.841741</td>\n",
       "      <td>-0.779421</td>\n",
       "    </tr>\n",
       "    <tr>\n",
       "      <th>현저동</th>\n",
       "      <td>-0.720432</td>\n",
       "      <td>-0.842145</td>\n",
       "      <td>-0.702012</td>\n",
       "      <td>-0.837053</td>\n",
       "      <td>-0.717362</td>\n",
       "      <td>-0.841815</td>\n",
       "      <td>-0.779588</td>\n",
       "    </tr>\n",
       "    <tr>\n",
       "      <th>구기동</th>\n",
       "      <td>-0.720432</td>\n",
       "      <td>-0.841567</td>\n",
       "      <td>-0.702012</td>\n",
       "      <td>-0.838344</td>\n",
       "      <td>-0.717362</td>\n",
       "      <td>-0.841924</td>\n",
       "      <td>-0.779643</td>\n",
       "    </tr>\n",
       "    <tr>\n",
       "      <th>운니동</th>\n",
       "      <td>-0.719930</td>\n",
       "      <td>-0.842608</td>\n",
       "      <td>-0.702012</td>\n",
       "      <td>-0.838145</td>\n",
       "      <td>-0.717035</td>\n",
       "      <td>-0.842510</td>\n",
       "      <td>-0.779772</td>\n",
       "    </tr>\n",
       "  </tbody>\n",
       "</table>\n",
       "<p>350 rows × 7 columns</p>\n",
       "</div>"
      ],
      "text/plain": [
       "       22시승차총승객수  22시하차총승객수  23시승차총승객수  23시하차총승객수     승차승객합     하차승객합  \\\n",
       "dname                                                                   \n",
       "신림동     6.649530   4.921061   7.506980   5.472339  6.984182  5.133387   \n",
       "구로동     5.251267   3.773264   6.104653   3.377743  5.577811  3.634344   \n",
       "목동      4.799089   4.112892   3.695048   3.841125  4.431945  4.020231   \n",
       "역삼동     5.101745   3.263216   5.109677   2.782265  5.128889  3.091856   \n",
       "봉천동     3.001466   3.429590   3.416451   3.660397  3.162395  3.521001   \n",
       "...          ...        ...        ...        ...       ...       ...   \n",
       "동빙고동   -0.718827  -0.841741  -0.702012  -0.838344 -0.716316 -0.842034   \n",
       "홍파동    -0.720081  -0.841452  -0.701919  -0.838046 -0.717100 -0.841741   \n",
       "현저동    -0.720432  -0.842145  -0.702012  -0.837053 -0.717362 -0.841815   \n",
       "구기동    -0.720432  -0.841567  -0.702012  -0.838344 -0.717362 -0.841924   \n",
       "운니동    -0.719930  -0.842608  -0.702012  -0.838145 -0.717035 -0.842510   \n",
       "\n",
       "        popular  \n",
       "dname            \n",
       "신림동    6.058784  \n",
       "구로동    4.606078  \n",
       "목동     4.226088  \n",
       "역삼동    4.110372  \n",
       "봉천동    3.341698  \n",
       "...         ...  \n",
       "동빙고동  -0.779175  \n",
       "홍파동   -0.779421  \n",
       "현저동   -0.779588  \n",
       "구기동   -0.779643  \n",
       "운니동   -0.779772  \n",
       "\n",
       "[350 rows x 7 columns]"
      ]
     },
     "execution_count": 40,
     "metadata": {},
     "output_type": "execute_result"
    }
   ],
   "source": [
    "df_scaled_df2['popular'] = (df_scaled_df2['승차승객합'] + df_scaled_df2['하차승객합']) / 2\n",
    "df_sort2 = df_scaled_df2.sort_values(by = 'popular', ascending=False)\n",
    "df_sort2"
   ]
  },
  {
   "cell_type": "code",
   "execution_count": 41,
   "metadata": {},
   "outputs": [
    {
     "data": {
      "image/png": "[encoded data removed]",
      "text/plain": [
       "<Figure size 720x648 with 2 Axes>"
      ]
     },
     "metadata": {
      "needs_background": "light"
     },
     "output_type": "display_data"
    }
   ],
   "source": [
    "plt.figure(figsize = (10, 9))\n",
    "plt.scatter(df_sort2['승차승객합'], df_sort2['하차승객합'], \n",
    "            c = (df_sort2['승차승객합'] + df_sort2['하차승객합']), s = 50)\n",
    "\n",
    "for n in range(20):\n",
    "    plt.text(df_sort2['승차승객합'][n]*1.01, df_sort2['하차승객합'][n]*(0.97), df_sort2.index[n], fontsize = 11)\n",
    "\n",
    "plt.colorbar()\n",
    "plt.xlabel('승차승객합')\n",
    "plt.ylabel('하차승객합')\n",
    "plt.show()"
   ]
  },
  {
   "cell_type": "code",
   "execution_count": 57,
   "metadata": {},
   "outputs": [],
   "source": [
    "# 클러스터링 구현\n",
    "from sklearn.cluster import KMeans\n",
    "\n",
    "dX = np.array([list(df_sort['승차승객합']), list(df_sort['하차승객합'])])\n",
    "dX = dX.transpose()\n"
   ]
  },
  {
   "cell_type": "code",
   "execution_count": 61,
   "metadata": {},
   "outputs": [
    {
     "data": {
      "text/plain": [
       "(350, 2)"
      ]
     },
     "execution_count": 61,
     "metadata": {},
     "output_type": "execute_result"
    }
   ],
   "source": [
    "dX.shape"
   ]
  },
  {
   "cell_type": "code",
   "execution_count": 62,
   "metadata": {},
   "outputs": [
    {
     "data": {
      "text/plain": [
       "KMeans(n_clusters=4)"
      ]
     },
     "execution_count": 62,
     "metadata": {},
     "output_type": "execute_result"
    }
   ],
   "source": [
    "kmeans = KMeans(n_clusters=4)\n",
    "kmeans.fit(dX)"
   ]
  },
  {
   "cell_type": "code",
   "execution_count": 65,
   "metadata": {},
   "outputs": [],
   "source": [
    "cluster_li = (kmeans.predict(dX))"
   ]
  },
  {
   "cell_type": "code",
   "execution_count": 67,
   "metadata": {},
   "outputs": [
    {
     "data": {
      "image/png": "[encoded data removed]",
      "text/plain": [
       "<Figure size 720x648 with 1 Axes>"
      ]
     },
     "metadata": {
      "needs_background": "light"
     },
     "output_type": "display_data"
    }
   ],
   "source": [
    "color_li = ['red','orange','yellow','green']\n",
    "\n",
    "plt.figure(figsize = (10, 9))\n",
    "for i in range(350):\n",
    "    plt.scatter(df_sort['승차승객합'][i], df_sort['하차승객합'][i], \n",
    "                c = color_li[cluster_li[i]], s = 50)\n",
    "\n",
    "for n in range(20):\n",
    "    plt.text(df_sort['승차승객합'][n]*1.01, df_sort['하차승객합'][n]*(0.97), df_sort.index[n], fontsize = 11)\n",
    "\n",
    "plt.xlabel('승차승객합')\n",
    "plt.ylabel('하차승객합')\n",
    "plt.show()"
   ]
  },
  {
   "cell_type": "code",
   "execution_count": null,
   "metadata": {},
   "outputs": [],
   "source": []
  }
 ],
 "metadata": {
  "kernelspec": {
   "display_name": "Python 3",
   "language": "python",
   "name": "python3"
  },
  "language_info": {
   "codemirror_mode": {
    "name": "ipython",
    "version": 3
   },
   "file_extension": ".py",
   "mimetype": "text/x-python",
   "name": "python",
   "nbconvert_exporter": "python",
   "pygments_lexer": "ipython3",
   "version": "3.7.4"
  }
 },
 "nbformat": 4,
 "nbformat_minor": 2
}
