{
 "cells": [
  {
   "cell_type": "code",
   "execution_count": null,
   "metadata": {},
   "outputs": [],
   "source": [
    "import pandas as pd\n",
    "import matplotlib.pyplot as plt\n",
    "import seaborn as sns"
   ]
  },
  {
   "cell_type": "code",
   "execution_count": null,
   "metadata": {},
   "outputs": [],
   "source": [
    "station_list = pd.read_excel('stationlist.xlsx', header=3,\n",
    "                            usecols = 'D:G', index_col=-1)\n",
    "station_list.drop_duplicates(inplace=True)\n",
    "station_list.head()"
   ]
  },
  {
   "cell_type": "code",
   "execution_count": null,
   "metadata": {},
   "outputs": [],
   "source": [
    "Nbus = ['N13', 'N15','N16','N26','N30','N32','N34','N37'\n",
    "        ,'N51','N61','N62','N64','N72','N75']\n",
    "len(Nbus)"
   ]
  },
  {
   "cell_type": "code",
   "execution_count": null,
   "metadata": {},
   "outputs": [],
   "source": [
    "import glob\n",
    "bus_station_data = glob.glob('정류소*')"
   ]
  },
  {
   "cell_type": "code",
   "execution_count": null,
   "metadata": {},
   "outputs": [],
   "source": [
    "for nb, data in zip(Nbus, bus_station_data):\n",
    "    globals()[nb] = pd.read_csv(data, sep='\\t', index_col = 0)\n",
    "    globals()[nb].drop(index = '순서', inplace = True)\n",
    "    globals()[nb]['경유정류소'] = globals()[nb]['경유정류소'].str.replace(' - 회차', '')\n",
    "    print(nb, globals()[nb].shape) "
   ]
  },
  {
   "cell_type": "code",
   "execution_count": null,
   "metadata": {},
   "outputs": [],
   "source": [
    "for nb in Nbus:\n",
    "    snum = pd.to_numeric(globals()[nb]['경유정류소'].str[-6:-1])\n",
    "    globals()[nb]['snum'] = snum\n",
    "    globals()[nb]['정류소명'] = globals()[nb]['경유정류소'].str[:-7]"
   ]
  },
  {
   "cell_type": "code",
   "execution_count": null,
   "metadata": {},
   "outputs": [],
   "source": [
    "import folium\n",
    "from folium import plugins\n",
    "import json"
   ]
  },
  {
   "cell_type": "code",
   "execution_count": null,
   "metadata": {},
   "outputs": [],
   "source": [
    "color = ['red', 'blue', 'green', 'purple', 'orange', 'darkred', 'lightred', 'black', 'darkblue', 'darkgreen', 'cadetblue', 'darkpurple', 'gray', 'pink']\n"
   ]
  },
  {
   "cell_type": "code",
   "execution_count": null,
   "metadata": {},
   "outputs": [],
   "source": [
    "st_new = pd.read_excel('20220429기준_서울시정류소리스트.xlsx')"
   ]
  },
  {
   "cell_type": "code",
   "execution_count": null,
   "metadata": {},
   "outputs": [],
   "source": [
    "import googlemaps\n",
    "gmaps_key = '---'\n",
    "gmaps = googlemaps.Client(key=gmaps_key)"
   ]
  },
  {
   "cell_type": "code",
   "execution_count": null,
   "metadata": {},
   "outputs": [],
   "source": [
    "print(station_list.loc[11193, '정류소명'])\n",
    "print([st_new[st_new['ARS-ID'] == 11193].loc[:, '정류소명']][0].values[0])"
   ]
  },
  {
   "cell_type": "code",
   "execution_count": null,
   "metadata": {},
   "outputs": [],
   "source": [
    "map = folium.Map(location = [37.5502, 126.982], zoom_start = 10.5)\n",
    "\n",
    "fg1 = folium.FeatureGroup(name='정류소')\n",
    "map.add_child(fg1)\n",
    "\n",
    "fg2 = folium.FeatureGroup(name='구역')\n",
    "map.add_child(fg2)\n",
    "\n",
    "fg = folium.FeatureGroup(name='정류소_지점')\n",
    "map.add_child(fg)\n",
    "\n",
    "g1 = folium.FeatureGroup('100m')\n",
    "map.add_child(g1)\n",
    "\n",
    "for i in range(2, 11):\n",
    "    globals()['g' + str(i)] = folium.FeatureGroup(str(i*100) + 'm')\n",
    "    map.add_child(globals()['g' + str(i)])\n",
    "\n",
    "folium.LayerControl(collapsed=False).add_to(map)\n",
    "\n",
    "geo_path = '02. skorea_municipalities_geo_simple.json' # 각 '구'의 경계면의 위도-경도를 기록한 파일\n",
    "geo_str = json.load(open(geo_path, encoding='utf-8'))\n",
    "err_snum = [] # 누락된 정류소 정보를 담는 리스트\n",
    "lat_lng = [] # 입력된 정류소들의 위도-경도 정보를 담는 리스트\n",
    "\n",
    "def make_circle(yx):\n",
    "    for i in range(1, 11):\n",
    "            folium.Circle(\n",
    "                            location=yx,\n",
    "                            radius=i*100, # 원 크기\n",
    "                            color = '#ff4f4f', # 원 테두리 색상\n",
    "                            fill_color='red', # 원 내부 색상\n",
    "                            fillOpacity = 1.0, # 원 내부의 투명도\n",
    "            ).add_to(globals()['g' + str(i)])\n",
    "\n",
    "for nb, cl in zip(Nbus, color):\n",
    "    for sn in globals()[nb]['snum']:\n",
    "        bus_number = int(str(nb[1:]))\n",
    "        icon_num = plugins.BeautifyIcon(border_color=cl, text_color=cl, number=bus_number, inner_icon_style='margin-top:0;')\n",
    "        folium.CircleMarker(yx,radius = 0.5,color = 'red').add_to(fg)            \n",
    "        try:\n",
    "            yx = [station_list.loc[sn, 'Y좌표'], station_list.loc[sn, 'X좌표']]\n",
    "            folium.Marker(yx, icon = icon_num, popup = folium.Popup('%s: %s: %d'%(nb ,station_list.loc[sn, '정류소명'], sn), \n",
    "                                                                                  max_width = 500)).add_to(fg1)\n",
    "            make_circle(yx)\n",
    "            lat_lng.append(yx)\n",
    "        except:\n",
    "            try:\n",
    "                yx = [st_new[st_new['ARS-ID'] == sn].loc[:, '좌표Y'].values[0], \n",
    "                      st_new[st_new['ARS-ID'] == sn].loc[:, '좌표X'].values[0]]\n",
    "                folium.Marker(location=yx, icon = icon_num, \n",
    "                              popup = folium.Popup('%s: %s: %d'%(nb ,[st_new[st_new['ARS-ID'] == sn].loc[:, '정류소명']][0].values[0], sn),\n",
    "                                                                                 max_width = 500)).add_to(fg1)\n",
    "                make_circle(yx)\n",
    "                lat_lng.append(yx)\n",
    "            except:\n",
    "                try:\n",
    "                    sname = globals()[nb][globals()[nb]['snum'] == sn].iloc[0][2]\n",
    "                    g = gmaps.geocode(sname + ' 정류장' , language = 'ko') # google API를 이용하여 위도-경도 정보 가져옴\n",
    "                    geo = g[0].get('geometry').get('location')\n",
    "                    yx = [geo.get('lat'), geo.get('lng')]\n",
    "                    folium.Marker(location=yx, icon = icon_num, popup = folium.Popup('%s: %s: %d'%(nb ,sname, sn), \n",
    "                                                                                    max_width = 500)).add_to(fg1)\n",
    "                    make_circle(yx)\n",
    "                    lat_lng.append(yx)\n",
    "                except:\n",
    "                    err_snum.append([nb,sn])\n",
    "        \n",
    "            \n",
    "folium.GeoJson(geo_str).add_to(fg2)\n",
    "print('누락된 정류소:', err_snum)\n",
    "\n",
    "map"
   ]
  },
  {
   "cell_type": "markdown",
   "metadata": {},
   "source": [
    "### 위에서 기록된 정류소 위도-경도를 기반으로, 사각지대에 존재하는 정류소들 찍기"
   ]
  },
  {
   "cell_type": "code",
   "execution_count": null,
   "metadata": {},
   "outputs": [],
   "source": [
    "lat_lng"
   ]
  },
  {
   "cell_type": "code",
   "execution_count": null,
   "metadata": {},
   "outputs": [],
   "source": [
    "len(lat_lng) # 총 1854개의 정류소 정보를 볼 수 있다."
   ]
  },
  {
   "cell_type": "code",
   "execution_count": null,
   "metadata": {},
   "outputs": [],
   "source": [
    "from haversine import haversine\n",
    "haversine(lat_lng[0], lat_lng[1]) * 1000"
   ]
  },
  {
   "cell_type": "code",
   "execution_count": null,
   "metadata": {},
   "outputs": [],
   "source": [
    "# haversine 테스트\n",
    "for i in lat_lng:\n",
    "    print(haversine(lat_lng[0], i) * 1000 < 1000)"
   ]
  },
  {
   "cell_type": "code",
   "execution_count": null,
   "metadata": {},
   "outputs": [],
   "source": [
    "st_new.head()"
   ]
  },
  {
   "cell_type": "code",
   "execution_count": null,
   "metadata": {},
   "outputs": [],
   "source": [
    "st_new.info() # 10935 entries"
   ]
  },
  {
   "cell_type": "code",
   "execution_count": null,
   "metadata": {},
   "outputs": [],
   "source": [
    "station_list.info() # 12854 entries"
   ]
  },
  {
   "cell_type": "code",
   "execution_count": null,
   "metadata": {},
   "outputs": [],
   "source": [
    "x0 = st_new.loc[0, '좌표X']\n",
    "y0 = st_new.loc[0, '좌표Y']\n",
    "print([x0, y0])"
   ]
  },
  {
   "cell_type": "code",
   "execution_count": null,
   "metadata": {},
   "outputs": [],
   "source": [
    "blind_spot_li = []\n",
    "for i in range(0, 10935):    \n",
    "    yx = [st_new.loc[i, '좌표Y'], st_new.loc[i, '좌표X']]\n",
    "    is_blind_spot = 1\n",
    "    for j in lat_lng:\n",
    "        if (haversine(yx, j) * 1000) < 500:\n",
    "            is_blind_spot = 0            \n",
    "    if is_blind_spot == 1: \n",
    "        blind_spot_li.append(yx)\n",
    "    \n",
    "print(len(blind_spot_li))    "
   ]
  },
  {
   "cell_type": "code",
   "execution_count": null,
   "metadata": {},
   "outputs": [],
   "source": [
    "blind_spot_li = []\n",
    "for i in range(0, 10935):    \n",
    "    yx = [st_new.loc[i, '좌표Y'], st_new.loc[i, '좌표X']]\n",
    "    is_blind_spot = 1\n",
    "    for j in lat_lng:\n",
    "        if (haversine(yx, j) * 1000) < 500:\n",
    "            is_blind_spot = 0\n",
    "            break                \n",
    "    if is_blind_spot == 1: blind_spot_li.append(yx)\n",
    "    \n",
    "print(len(blind_spot_li))  "
   ]
  },
  {
   "cell_type": "code",
   "execution_count": null,
   "metadata": {},
   "outputs": [],
   "source": [
    "map = folium.Map(location = [37.5502, 126.982], zoom_start = 10.5)\n",
    "\n",
    "fg1 = folium.FeatureGroup(name='정류소')\n",
    "map.add_child(fg1)\n",
    "\n",
    "fg2 = folium.FeatureGroup(name='구역')\n",
    "map.add_child(fg2)\n",
    "\n",
    "fg = folium.FeatureGroup(name='정류소_지점')\n",
    "map.add_child(fg)\n",
    "\n",
    "bs5 = folium.FeatureGroup(name='사각지대_500')\n",
    "map.add_child(bs5)\n",
    "\n",
    "g1 = folium.FeatureGroup('100m')\n",
    "map.add_child(g1)\n",
    "\n",
    "for i in range(2, 11):\n",
    "    globals()['g' + str(i)] = folium.FeatureGroup(str(i*100) + 'm')\n",
    "    map.add_child(globals()['g' + str(i)])\n",
    "\n",
    "folium.LayerControl(collapsed=False).add_to(map)\n",
    "\n",
    "geo_path = '02. skorea_municipalities_geo_simple.json' # 각 '구'의 경계면의 위도-경도를 기록한 파일\n",
    "geo_str = json.load(open(geo_path, encoding='utf-8'))\n",
    "err_snum = [] # 누락된 정류소 정보를 담는 리스트\n",
    "lat_lng = [] # 입력된 정류소들의 위도-경도 정보를 담는 리스트\n",
    "\n",
    "def make_circle(yx):\n",
    "    for i in range(1, 11):\n",
    "            folium.Circle(\n",
    "                            location=yx,\n",
    "                            radius=i*100, # 원 크기\n",
    "                            color = '#ff4f4f', # 원 테두리 색상\n",
    "                            fill_color='red', # 원 내부 색상\n",
    "                            fillOpacity = 0.5, # 원 내부의 투명도\n",
    "            ).add_to(globals()['g' + str(i)])\n",
    "\n",
    "for nb, cl in zip(Nbus, color):\n",
    "    for sn in globals()[nb]['snum']:\n",
    "        bus_number = int(str(nb[1:]))\n",
    "        icon_num = plugins.BeautifyIcon(border_color=cl, text_color=cl, number=bus_number, inner_icon_style='margin-top:0;')\n",
    "        folium.CircleMarker(yx,radius = 0.5,color = 'red').add_to(fg)            \n",
    "        try:\n",
    "            yx = [station_list.loc[sn, 'Y좌표'], station_list.loc[sn, 'X좌표']]\n",
    "            folium.Marker(yx, icon = icon_num, popup = folium.Popup('%s: %s: %d'%(nb ,station_list.loc[sn, '정류소명'], sn), \n",
    "                                                                                  max_width = 500)).add_to(fg1)\n",
    "            make_circle(yx)\n",
    "            lat_lng.append(yx)\n",
    "        except:\n",
    "            try:\n",
    "                yx = [st_new[st_new['ARS-ID'] == sn].loc[:, '좌표Y'].values[0], \n",
    "                      st_new[st_new['ARS-ID'] == sn].loc[:, '좌표X'].values[0]]\n",
    "                folium.Marker(location=yx, icon = icon_num, \n",
    "                              popup = folium.Popup('%s: %s: %d'%(nb ,[st_new[st_new['ARS-ID'] == sn].loc[:, '정류소명']][0].values[0], sn),\n",
    "                                                                                 max_width = 500)).add_to(fg1)\n",
    "                make_circle(yx)\n",
    "                lat_lng.append(yx)\n",
    "            except:\n",
    "                try:\n",
    "                    sname = globals()[nb][globals()[nb]['snum'] == sn].iloc[0][2]\n",
    "                    g = gmaps.geocode(sname + ' 정류장' , language = 'ko') # google API를 이용하여 위도-경도 정보 가져옴\n",
    "                    geo = g[0].get('geometry').get('location')\n",
    "                    yx = [geo.get('lat'), geo.get('lng')]\n",
    "                    folium.Marker(location=yx, icon = icon_num, popup = folium.Popup('%s: %s: %d'%(nb ,sname, sn), \n",
    "                                                                                    max_width = 500)).add_to(fg1)\n",
    "                    make_circle(yx)\n",
    "                    lat_lng.append(yx)\n",
    "                except:\n",
    "                    err_snum.append([nb,sn])\n",
    "        \n",
    "\n",
    "for spot in blind_spot_li:\n",
    "    folium.CircleMarker(spot,radius = 0.5,color = 'purple').add_to(bs5)\n",
    "        \n",
    "folium.GeoJson(geo_str).add_to(fg2)\n",
    "print('누락된 정류소:', err_snum)\n",
    "\n",
    "\n",
    "map    "
   ]
  },
  {
   "cell_type": "code",
   "execution_count": null,
   "metadata": {},
   "outputs": [],
   "source": [
    "s1 = set(list(station_list.index))\n",
    "s1"
   ]
  },
  {
   "cell_type": "code",
   "execution_count": null,
   "metadata": {},
   "outputs": [],
   "source": [
    "s2 = set(list(st_new.loc[:, 'ARS-ID']))\n",
    "s2"
   ]
  },
  {
   "cell_type": "code",
   "execution_count": null,
   "metadata": {},
   "outputs": [],
   "source": [
    "print(len(s1), len(s2))\n",
    "print(len(s1 - s2), len(s2 - s1))"
   ]
  },
  {
   "cell_type": "code",
   "execution_count": null,
   "metadata": {},
   "outputs": [],
   "source": [
    "# find_bs: 사각지대(blind_spot)를 찾는 함수 제작\n",
    "def find_bs(leng, search_ll , standard_ll): \n",
    "    # search_ll : 사각지대 찾고자 하는 리스트, standard_ll : 기준이 되는 리스트\n",
    "    blind_spot_li = []\n",
    "    for i in range(0, len(search_ll)):    \n",
    "        yx = [search_ll.loc[i, '좌표Y'], search_ll.loc[i, '좌표X']]\n",
    "        is_blind_spot = True\n",
    "        for j in standard_ll:\n",
    "            if (haversine(yx, j) * 1000) < leng:\n",
    "                is_blind_spot = False\n",
    "                break                \n",
    "        if is_blind_spot: blind_spot_li.append(yx)    \n",
    "    return blind_spot_li"
   ]
  },
  {
   "cell_type": "code",
   "execution_count": null,
   "metadata": {},
   "outputs": [],
   "source": [
    "for i in range(1, 10): # 함수 검증용 코드\n",
    "    c = find_bs(i * 100, st_new, lat_lng)\n",
    "    print(len(c)) # 거리(100m)별 야간버스 사각지대 안에 있는 정류소 개수, 거리가 늘 수록 감소해야 한다."
   ]
  },
  {
   "cell_type": "code",
   "execution_count": null,
   "metadata": {},
   "outputs": [],
   "source": [
    "map = folium.Map(location = [37.5502, 126.982], zoom_start = 10.5)\n",
    "\n",
    "plugins.Fullscreen(\n",
    "    position='topright',\n",
    "    title='Expand me',\n",
    "    title_cancel='Exit me',\n",
    "    force_separate_button=True\n",
    ").add_to(map)\n",
    "\n",
    "fg1 = folium.FeatureGroup(name='정류소')\n",
    "map.add_child(fg1)\n",
    "\n",
    "fg2 = folium.FeatureGroup(name='구역')\n",
    "map.add_child(fg2)\n",
    "\n",
    "fg = folium.FeatureGroup(name='정류소_지점')\n",
    "map.add_child(fg)\n",
    "\n",
    "for i in range(1, 11): # g1 ~ g10까지 거리별 레이어 생성\n",
    "    globals()['g' + str(i)] = folium.FeatureGroup(str(i*100) + 'm')\n",
    "    map.add_child(globals()['g' + str(i)])\n",
    "\n",
    "folium.LayerControl(collapsed=False).add_to(map) # LayerControl 활성화\n",
    "\n",
    "geo_path = '02. skorea_municipalities_geo_simple.json' # 각 '구'의 경계면의 위도-경도를 기록한 파일\n",
    "geo_str = json.load(open(geo_path, encoding='utf-8'))\n",
    "err_snum = [] # 누락된 정류소 정보를 담는 리스트\n",
    "#lat_lng = [] # 입력된 정류소들의 위도-경도 정보를 담는 리스트\n",
    "\n",
    "def make_circle(yx): # 야간 버스 정류소 기준 거리별 구역 시각화 및 각 레이어에 지정\n",
    "    for i in range(1, 11):\n",
    "            folium.Circle(\n",
    "                            location=yx,\n",
    "                            radius=i*100, # 원 크기(m 단위)\n",
    "                            color = '#ff4f4f', # 원 테두리 색상\n",
    "                            fill_color='red', # 원 내부 색상\n",
    "                            fillOpacity = 0.5, # 원 내부의 투명도\n",
    "            ).add_to(globals()['g' + str(i)])\n",
    "\n",
    "for nb, cl in zip(Nbus, color):\n",
    "    for sn in globals()[nb]['snum']: # 각 노선 별 정류소번호\n",
    "        bus_number = int(str(nb[1:])) # 노선 번호\n",
    "        icon_num = plugins.BeautifyIcon(border_color=cl, text_color=cl, \n",
    "                                        number=bus_number, inner_icon_style='margin-top:0;') # 노선 번호 기반으로 마커 생성\n",
    "        try:# 위도-경도 좌표를 구한 후, 지도에 시각화\n",
    "            yx = [station_list.loc[sn, 'Y좌표'], station_list.loc[sn, 'X좌표']]\n",
    "            folium.Marker(yx, icon = icon_num, popup = folium.Popup('%s: %s: %d'%(nb ,station_list.loc[sn, '정류소명'], sn), \n",
    "                                                                                  max_width = 500)).add_to(fg1)\n",
    "            make_circle(yx)\n",
    "            #lat_lng.append(yx)\n",
    "        except:\n",
    "            try:\n",
    "                yx = [st_new[st_new['ARS-ID'] == sn].loc[:, '좌표Y'].values[0], \n",
    "                      st_new[st_new['ARS-ID'] == sn].loc[:, '좌표X'].values[0]]\n",
    "                folium.Marker(location=yx, icon = icon_num, \n",
    "                              popup = folium.Popup('%s: %s: %d'%(nb ,[st_new[st_new['ARS-ID'] == sn].loc[:, '정류소명']][0].values[0], sn),\n",
    "                                                                                 max_width = 500)).add_to(fg1)\n",
    "                make_circle(yx)\n",
    "                #lat_lng.append(yx)\n",
    "            except:\n",
    "                try:\n",
    "                    sname = globals()[nb][globals()[nb]['snum'] == sn].iloc[0][2]\n",
    "                    g = gmaps.geocode(sname + ' 정류장' , language = 'ko') # google API를 이용하여 위도-경도 정보 가져옴\n",
    "                    geo = g[0].get('geometry').get('location')\n",
    "                    yx = [geo.get('lat'), geo.get('lng')]\n",
    "                    folium.Marker(location=yx, icon = icon_num, popup = folium.Popup('%s: %s: %d'%(nb ,sname, sn), \n",
    "                                                                                    max_width = 500)).add_to(fg1)\n",
    "                    make_circle(yx)\n",
    "                    #lat_lng.append(yx)\n",
    "                except:\n",
    "                    err_snum.append([nb,sn])\n",
    "        folium.CircleMarker(yx,radius = 0.5,color = 'red').add_to(fg) # 정류소 지점 마커로 찍기\n",
    "for i in range(1, 11):        \n",
    "    blind_spot_li = find_bs(i * 100, st_new, lat_lng)\n",
    "    for spot in blind_spot_li: # 사각지대에 해당되는 정류소, 지도에 시각화\n",
    "        folium.CircleMarker(spot,radius = 0.5,color = 'black').add_to(globals()['g' + str(i)])\n",
    "        \n",
    "folium.GeoJson(geo_str).add_to(fg2) # 서울시의 '구' 지도에 시각화\n",
    "print('누락된 정류소 개수', len(err_snum))\n",
    "\n",
    "map    "
   ]
  },
  {
   "cell_type": "code",
   "execution_count": null,
   "metadata": {},
   "outputs": [],
   "source": [
    "#########################################################\n",
    "map.save('../output/NightBusStation_map_2.html')"
   ]
  },
  {
   "cell_type": "code",
   "execution_count": null,
   "metadata": {
    "scrolled": true
   },
   "outputs": [],
   "source": [
    "station_list['좌표X'] = station_list['X좌표']\n",
    "station_list['좌표Y'] = station_list['Y좌표']\n",
    "station_list.reset_index(inplace=True)\n",
    "station_list.head()"
   ]
  },
  {
   "cell_type": "code",
   "execution_count": null,
   "metadata": {},
   "outputs": [],
   "source": [
    "st_new.head()"
   ]
  },
  {
   "cell_type": "code",
   "execution_count": null,
   "metadata": {},
   "outputs": [],
   "source": []
  }
 ],
 "metadata": {
  "kernelspec": {
   "display_name": "Python 3",
   "language": "python",
   "name": "python3"
  },
  "language_info": {
   "codemirror_mode": {
    "name": "ipython",
    "version": 3
   },
   "file_extension": ".py",
   "mimetype": "text/x-python",
   "name": "python",
   "nbconvert_exporter": "python",
   "pygments_lexer": "ipython3",
   "version": "3.7.4"
  }
 },
 "nbformat": 4,
 "nbformat_minor": 2
}
