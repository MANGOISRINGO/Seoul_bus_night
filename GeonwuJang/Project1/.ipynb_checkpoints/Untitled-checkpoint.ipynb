{
 "cells": [
  {
   "cell_type": "code",
   "execution_count": 1,
   "metadata": {},
   "outputs": [
    {
     "name": "stderr",
     "output_type": "stream",
     "text": [
      "C:\\Users\\82104\\Anaconda3\\lib\\site-packages\\statsmodels\\tools\\_testing.py:19: FutureWarning: pandas.util.testing is deprecated. Use the functions in the public API at pandas.testing instead.\n",
      "  import pandas.util.testing as tm\n"
     ]
    }
   ],
   "source": [
    "# 정류소 정보를 가진 파일을 읽어온다.\n",
    "import pandas as pd\n",
    "import matplotlib.pyplot as plt\n",
    "import seaborn as sns"
   ]
  },
  {
   "cell_type": "code",
   "execution_count": 2,
   "metadata": {},
   "outputs": [
    {
     "data": {
      "text/plain": [
       "14"
      ]
     },
     "execution_count": 2,
     "metadata": {},
     "output_type": "execute_result"
    }
   ],
   "source": [
    "##########################################################################\n",
    "Nbus = ['N13', 'N15','N16','N26','N30','N32','N34','N37'\n",
    "        ,'N51','N61','N62','N64','N72','N75']\n",
    "len(Nbus)"
   ]
  },
  {
   "cell_type": "code",
   "execution_count": 3,
   "metadata": {},
   "outputs": [],
   "source": [
    "e_s = [['N13', 24503],\n",
    " ['N15', 10342],\n",
    " ['N15', 10343],\n",
    " ['N26', 16023],\n",
    " ['N26', 16024],\n",
    " ['N32', 24503],\n",
    " ['N32', 24425],\n",
    " ['N32', 6310],\n",
    " ['N32', 24424],\n",
    " ['N37', 24503],\n",
    " ['N61', 17249],\n",
    " ['N64', 19015],\n",
    " ['N64', 20254],\n",
    " ['N64', 22415],\n",
    " ['N64', 22608],\n",
    " ['N64', 22426],\n",
    " ['N75', 13341]]"
   ]
  },
  {
   "cell_type": "code",
   "execution_count": 4,
   "metadata": {},
   "outputs": [
    {
     "data": {
      "text/plain": [
       "['정류소_N13.txt',\n",
       " '정류소_N15.txt',\n",
       " '정류소_N16.txt',\n",
       " '정류소_N26.txt',\n",
       " '정류소_N30.txt',\n",
       " '정류소_N32.txt',\n",
       " '정류소_N34.txt',\n",
       " '정류소_N37.txt',\n",
       " '정류소_N51.txt',\n",
       " '정류소_N61.txt',\n",
       " '정류소_N62.txt',\n",
       " '정류소_N64.txt',\n",
       " '정류소_N72.txt',\n",
       " '정류소_N75.txt']"
      ]
     },
     "execution_count": 4,
     "metadata": {},
     "output_type": "execute_result"
    }
   ],
   "source": [
    "import glob\n",
    "bus_station_data = glob.glob('정류소*')\n",
    "\n",
    "bus_station_data"
   ]
  },
  {
   "cell_type": "code",
   "execution_count": 5,
   "metadata": {
    "scrolled": true
   },
   "outputs": [
    {
     "name": "stdout",
     "output_type": "stream",
     "text": [
      "N13 (145, 1)\n",
      "N15 (145, 1)\n",
      "N16 (131, 1)\n",
      "N26 (129, 1)\n",
      "N30 (95, 1)\n",
      "N32 (78, 1)\n",
      "N34 (87, 1)\n",
      "N37 (111, 1)\n",
      "N51 (154, 1)\n",
      "N61 (185, 1)\n",
      "N62 (157, 1)\n",
      "N64 (164, 1)\n",
      "N72 (102, 1)\n",
      "N75 (171, 1)\n"
     ]
    }
   ],
   "source": [
    "import pandas as pd\n",
    "for nb, data in zip(Nbus, bus_station_data):\n",
    "    globals()[nb] = pd.read_csv(data, sep='\\t', index_col = 0)\n",
    "    globals()[nb].drop(index = '순서', inplace = True)\n",
    "    globals()[nb]['경유정류소'] = globals()[nb]['경유정류소'].str.replace(' - 회차', '')\n",
    "    print(nb, globals()[nb].shape) "
   ]
  },
  {
   "cell_type": "code",
   "execution_count": 6,
   "metadata": {},
   "outputs": [],
   "source": [
    "for nb in Nbus:\n",
    "    snum = pd.to_numeric(globals()[nb]['경유정류소'].str[-6:-1])\n",
    "    globals()[nb]['snum'] = snum\n",
    "    globals()[nb]['정류소명'] = globals()[nb]['경유정류소'].str[:-7]"
   ]
  },
  {
   "cell_type": "code",
   "execution_count": 14,
   "metadata": {},
   "outputs": [
    {
     "data": {
      "text/html": [
       "<div>\n",
       "<style scoped>\n",
       "    .dataframe tbody tr th:only-of-type {\n",
       "        vertical-align: middle;\n",
       "    }\n",
       "\n",
       "    .dataframe tbody tr th {\n",
       "        vertical-align: top;\n",
       "    }\n",
       "\n",
       "    .dataframe thead th {\n",
       "        text-align: right;\n",
       "    }\n",
       "</style>\n",
       "<table border=\"1\" class=\"dataframe\">\n",
       "  <thead>\n",
       "    <tr style=\"text-align: right;\">\n",
       "      <th></th>\n",
       "      <th>경유정류소</th>\n",
       "      <th>snum</th>\n",
       "      <th>정류소명</th>\n",
       "    </tr>\n",
       "    <tr>\n",
       "      <th>순서</th>\n",
       "      <th></th>\n",
       "      <th></th>\n",
       "      <th></th>\n",
       "    </tr>\n",
       "  </thead>\n",
       "  <tbody>\n",
       "    <tr>\n",
       "      <th>1</th>\n",
       "      <td>우이동성원아파트(09104)</td>\n",
       "      <td>9104</td>\n",
       "      <td>우이동성원아파트</td>\n",
       "    </tr>\n",
       "    <tr>\n",
       "      <th>2</th>\n",
       "      <td>우이동도선사입구(09286)</td>\n",
       "      <td>9286</td>\n",
       "      <td>우이동도선사입구</td>\n",
       "    </tr>\n",
       "    <tr>\n",
       "      <th>3</th>\n",
       "      <td>한국사회봉사회(10342)</td>\n",
       "      <td>10342</td>\n",
       "      <td>한국사회봉사회</td>\n",
       "    </tr>\n",
       "    <tr>\n",
       "      <th>4</th>\n",
       "      <td>연산군.정의공주묘(10184)</td>\n",
       "      <td>10184</td>\n",
       "      <td>연산군.정의공주묘</td>\n",
       "    </tr>\n",
       "    <tr>\n",
       "      <th>5</th>\n",
       "      <td>방학동신동아타워(10186)</td>\n",
       "      <td>10186</td>\n",
       "      <td>방학동신동아타워</td>\n",
       "    </tr>\n",
       "  </tbody>\n",
       "</table>\n",
       "</div>"
      ],
      "text/plain": [
       "               경유정류소   snum       정류소명\n",
       "순서                                    \n",
       "1    우이동성원아파트(09104)   9104   우이동성원아파트\n",
       "2    우이동도선사입구(09286)   9286   우이동도선사입구\n",
       "3     한국사회봉사회(10342)  10342    한국사회봉사회\n",
       "4   연산군.정의공주묘(10184)  10184  연산군.정의공주묘\n",
       "5    방학동신동아타워(10186)  10186   방학동신동아타워"
      ]
     },
     "execution_count": 14,
     "metadata": {},
     "output_type": "execute_result"
    }
   ],
   "source": [
    "N15.head()"
   ]
  },
  {
   "cell_type": "code",
   "execution_count": 7,
   "metadata": {},
   "outputs": [],
   "source": [
    "import googlemaps\n",
    "gmaps_key = \"---\"\n",
    "gmaps = googlemaps.Client(key=gmaps_key)"
   ]
  },
  {
   "cell_type": "code",
   "execution_count": 19,
   "metadata": {},
   "outputs": [
    {
     "data": {
      "text/html": [
       "<div>\n",
       "<style scoped>\n",
       "    .dataframe tbody tr th:only-of-type {\n",
       "        vertical-align: middle;\n",
       "    }\n",
       "\n",
       "    .dataframe tbody tr th {\n",
       "        vertical-align: top;\n",
       "    }\n",
       "\n",
       "    .dataframe thead th {\n",
       "        text-align: right;\n",
       "    }\n",
       "</style>\n",
       "<table border=\"1\" class=\"dataframe\">\n",
       "  <thead>\n",
       "    <tr style=\"text-align: right;\">\n",
       "      <th></th>\n",
       "      <th>경유정류소</th>\n",
       "      <th>snum</th>\n",
       "      <th>정류소명</th>\n",
       "    </tr>\n",
       "    <tr>\n",
       "      <th>순서</th>\n",
       "      <th></th>\n",
       "      <th></th>\n",
       "      <th></th>\n",
       "    </tr>\n",
       "  </thead>\n",
       "  <tbody>\n",
       "    <tr>\n",
       "      <th>3</th>\n",
       "      <td>한국사회봉사회(10342)</td>\n",
       "      <td>10342</td>\n",
       "      <td>한국사회봉사회</td>\n",
       "    </tr>\n",
       "  </tbody>\n",
       "</table>\n",
       "</div>"
      ],
      "text/plain": [
       "             경유정류소   snum     정류소명\n",
       "순서                                \n",
       "3   한국사회봉사회(10342)  10342  한국사회봉사회"
      ]
     },
     "execution_count": 19,
     "metadata": {},
     "output_type": "execute_result"
    }
   ],
   "source": [
    "sname = N15[N15['snum'] == 10342]\n",
    "sname"
   ]
  },
  {
   "cell_type": "code",
   "execution_count": 9,
   "metadata": {
    "collapsed": true
   },
   "outputs": [
    {
     "ename": "ValueError",
     "evalue": "The truth value of a Series is ambiguous. Use a.empty, a.bool(), a.item(), a.any() or a.all().",
     "output_type": "error",
     "traceback": [
      "\u001b[1;31m---------------------------------------------------------------------------\u001b[0m",
      "\u001b[1;31mValueError\u001b[0m                                Traceback (most recent call last)",
      "\u001b[1;32m<ipython-input-9-9fd638788a34>\u001b[0m in \u001b[0;36m<module>\u001b[1;34m\u001b[0m\n\u001b[1;32m----> 1\u001b[1;33m \u001b[0mgmaps\u001b[0m\u001b[1;33m.\u001b[0m\u001b[0mgeocode\u001b[0m\u001b[1;33m(\u001b[0m\u001b[0msname\u001b[0m \u001b[1;33m+\u001b[0m \u001b[1;34m' 정류소'\u001b[0m \u001b[1;33m,\u001b[0m \u001b[0mlanguage\u001b[0m \u001b[1;33m=\u001b[0m \u001b[1;34m'ko'\u001b[0m\u001b[1;33m)\u001b[0m\u001b[1;33m\u001b[0m\u001b[1;33m\u001b[0m\u001b[0m\n\u001b[0m",
      "\u001b[1;32m~\\Anaconda3\\lib\\site-packages\\googlemaps\\client.py\u001b[0m in \u001b[0;36mwrapper\u001b[1;34m(*args, **kwargs)\u001b[0m\n\u001b[0;32m    418\u001b[0m     \u001b[1;32mdef\u001b[0m \u001b[0mwrapper\u001b[0m\u001b[1;33m(\u001b[0m\u001b[1;33m*\u001b[0m\u001b[0margs\u001b[0m\u001b[1;33m,\u001b[0m \u001b[1;33m**\u001b[0m\u001b[0mkwargs\u001b[0m\u001b[1;33m)\u001b[0m\u001b[1;33m:\u001b[0m\u001b[1;33m\u001b[0m\u001b[1;33m\u001b[0m\u001b[0m\n\u001b[0;32m    419\u001b[0m         \u001b[0margs\u001b[0m\u001b[1;33m[\u001b[0m\u001b[1;36m0\u001b[0m\u001b[1;33m]\u001b[0m\u001b[1;33m.\u001b[0m\u001b[0m_extra_params\u001b[0m \u001b[1;33m=\u001b[0m \u001b[0mkwargs\u001b[0m\u001b[1;33m.\u001b[0m\u001b[0mpop\u001b[0m\u001b[1;33m(\u001b[0m\u001b[1;34m\"extra_params\"\u001b[0m\u001b[1;33m,\u001b[0m \u001b[1;32mNone\u001b[0m\u001b[1;33m)\u001b[0m\u001b[1;33m\u001b[0m\u001b[1;33m\u001b[0m\u001b[0m\n\u001b[1;32m--> 420\u001b[1;33m         \u001b[0mresult\u001b[0m \u001b[1;33m=\u001b[0m \u001b[0mfunc\u001b[0m\u001b[1;33m(\u001b[0m\u001b[1;33m*\u001b[0m\u001b[0margs\u001b[0m\u001b[1;33m,\u001b[0m \u001b[1;33m**\u001b[0m\u001b[0mkwargs\u001b[0m\u001b[1;33m)\u001b[0m\u001b[1;33m\u001b[0m\u001b[1;33m\u001b[0m\u001b[0m\n\u001b[0m\u001b[0;32m    421\u001b[0m         \u001b[1;32mtry\u001b[0m\u001b[1;33m:\u001b[0m\u001b[1;33m\u001b[0m\u001b[1;33m\u001b[0m\u001b[0m\n\u001b[0;32m    422\u001b[0m             \u001b[1;32mdel\u001b[0m \u001b[0margs\u001b[0m\u001b[1;33m[\u001b[0m\u001b[1;36m0\u001b[0m\u001b[1;33m]\u001b[0m\u001b[1;33m.\u001b[0m\u001b[0m_extra_params\u001b[0m\u001b[1;33m\u001b[0m\u001b[1;33m\u001b[0m\u001b[0m\n",
      "\u001b[1;32m~\\Anaconda3\\lib\\site-packages\\googlemaps\\geocoding.py\u001b[0m in \u001b[0;36mgeocode\u001b[1;34m(client, address, place_id, components, bounds, region, language)\u001b[0m\n\u001b[0;32m     55\u001b[0m     \u001b[0mparams\u001b[0m \u001b[1;33m=\u001b[0m \u001b[1;33m{\u001b[0m\u001b[1;33m}\u001b[0m\u001b[1;33m\u001b[0m\u001b[1;33m\u001b[0m\u001b[0m\n\u001b[0;32m     56\u001b[0m \u001b[1;33m\u001b[0m\u001b[0m\n\u001b[1;32m---> 57\u001b[1;33m     \u001b[1;32mif\u001b[0m \u001b[0maddress\u001b[0m\u001b[1;33m:\u001b[0m\u001b[1;33m\u001b[0m\u001b[1;33m\u001b[0m\u001b[0m\n\u001b[0m\u001b[0;32m     58\u001b[0m         \u001b[0mparams\u001b[0m\u001b[1;33m[\u001b[0m\u001b[1;34m\"address\"\u001b[0m\u001b[1;33m]\u001b[0m \u001b[1;33m=\u001b[0m \u001b[0maddress\u001b[0m\u001b[1;33m\u001b[0m\u001b[1;33m\u001b[0m\u001b[0m\n\u001b[0;32m     59\u001b[0m \u001b[1;33m\u001b[0m\u001b[0m\n",
      "\u001b[1;32m~\\AppData\\Roaming\\Python\\Python37\\site-packages\\pandas\\core\\generic.py\u001b[0m in \u001b[0;36m__nonzero__\u001b[1;34m(self)\u001b[0m\n\u001b[0;32m   1536\u001b[0m     \u001b[1;32mdef\u001b[0m \u001b[0m__nonzero__\u001b[0m\u001b[1;33m(\u001b[0m\u001b[0mself\u001b[0m\u001b[1;33m)\u001b[0m\u001b[1;33m:\u001b[0m\u001b[1;33m\u001b[0m\u001b[1;33m\u001b[0m\u001b[0m\n\u001b[0;32m   1537\u001b[0m         raise ValueError(\n\u001b[1;32m-> 1538\u001b[1;33m             \u001b[1;34mf\"The truth value of a {type(self).__name__} is ambiguous. \"\u001b[0m\u001b[1;33m\u001b[0m\u001b[1;33m\u001b[0m\u001b[0m\n\u001b[0m\u001b[0;32m   1539\u001b[0m             \u001b[1;34m\"Use a.empty, a.bool(), a.item(), a.any() or a.all().\"\u001b[0m\u001b[1;33m\u001b[0m\u001b[1;33m\u001b[0m\u001b[0m\n\u001b[0;32m   1540\u001b[0m         )\n",
      "\u001b[1;31mValueError\u001b[0m: The truth value of a Series is ambiguous. Use a.empty, a.bool(), a.item(), a.any() or a.all()."
     ]
    }
   ],
   "source": [
    "gmaps.geocode(sname + ' 정류장' , language = 'ko')"
   ]
  },
  {
   "cell_type": "code",
   "execution_count": 21,
   "metadata": {},
   "outputs": [
    {
     "data": {
      "text/html": [
       "<div>\n",
       "<style scoped>\n",
       "    .dataframe tbody tr th:only-of-type {\n",
       "        vertical-align: middle;\n",
       "    }\n",
       "\n",
       "    .dataframe tbody tr th {\n",
       "        vertical-align: top;\n",
       "    }\n",
       "\n",
       "    .dataframe thead th {\n",
       "        text-align: right;\n",
       "    }\n",
       "</style>\n",
       "<table border=\"1\" class=\"dataframe\">\n",
       "  <thead>\n",
       "    <tr style=\"text-align: right;\">\n",
       "      <th></th>\n",
       "      <th>NODE_ID</th>\n",
       "      <th>ARS-ID</th>\n",
       "      <th>정류소명</th>\n",
       "      <th>좌표X</th>\n",
       "      <th>좌표Y</th>\n",
       "    </tr>\n",
       "  </thead>\n",
       "  <tbody>\n",
       "    <tr>\n",
       "      <th>0</th>\n",
       "      <td>100000001</td>\n",
       "      <td>1001</td>\n",
       "      <td>종로2가사거리</td>\n",
       "      <td>126.987786</td>\n",
       "      <td>37.569764</td>\n",
       "    </tr>\n",
       "    <tr>\n",
       "      <th>1</th>\n",
       "      <td>100000002</td>\n",
       "      <td>1002</td>\n",
       "      <td>창경궁.서울대학교병원</td>\n",
       "      <td>126.996520</td>\n",
       "      <td>37.579179</td>\n",
       "    </tr>\n",
       "    <tr>\n",
       "      <th>2</th>\n",
       "      <td>100000003</td>\n",
       "      <td>1003</td>\n",
       "      <td>명륜3가.성대입구</td>\n",
       "      <td>126.998290</td>\n",
       "      <td>37.582709</td>\n",
       "    </tr>\n",
       "    <tr>\n",
       "      <th>3</th>\n",
       "      <td>100000004</td>\n",
       "      <td>1004</td>\n",
       "      <td>종로2가.삼일교</td>\n",
       "      <td>126.987507</td>\n",
       "      <td>37.568582</td>\n",
       "    </tr>\n",
       "    <tr>\n",
       "      <th>4</th>\n",
       "      <td>100000005</td>\n",
       "      <td>1005</td>\n",
       "      <td>혜화동로터리.여운형활동터</td>\n",
       "      <td>127.001694</td>\n",
       "      <td>37.586230</td>\n",
       "    </tr>\n",
       "    <tr>\n",
       "      <th>5</th>\n",
       "      <td>101000305</td>\n",
       "      <td>1006</td>\n",
       "      <td>서대문역사거리</td>\n",
       "      <td>126.966961</td>\n",
       "      <td>37.566208</td>\n",
       "    </tr>\n",
       "    <tr>\n",
       "      <th>6</th>\n",
       "      <td>100000380</td>\n",
       "      <td>1007</td>\n",
       "      <td>서울역사박물관.경희궁앞</td>\n",
       "      <td>126.970420</td>\n",
       "      <td>37.569098</td>\n",
       "    </tr>\n",
       "    <tr>\n",
       "      <th>7</th>\n",
       "      <td>100000379</td>\n",
       "      <td>1008</td>\n",
       "      <td>서울역사박물관.경희궁앞</td>\n",
       "      <td>126.970442</td>\n",
       "      <td>37.569336</td>\n",
       "    </tr>\n",
       "    <tr>\n",
       "      <th>8</th>\n",
       "      <td>100000384</td>\n",
       "      <td>1009</td>\n",
       "      <td>광화문</td>\n",
       "      <td>126.975241</td>\n",
       "      <td>37.570051</td>\n",
       "    </tr>\n",
       "    <tr>\n",
       "      <th>9</th>\n",
       "      <td>100000385</td>\n",
       "      <td>1010</td>\n",
       "      <td>광화문</td>\n",
       "      <td>126.978091</td>\n",
       "      <td>37.570296</td>\n",
       "    </tr>\n",
       "  </tbody>\n",
       "</table>\n",
       "</div>"
      ],
      "text/plain": [
       "     NODE_ID  ARS-ID           정류소명         좌표X        좌표Y\n",
       "0  100000001    1001        종로2가사거리  126.987786  37.569764\n",
       "1  100000002    1002    창경궁.서울대학교병원  126.996520  37.579179\n",
       "2  100000003    1003      명륜3가.성대입구  126.998290  37.582709\n",
       "3  100000004    1004       종로2가.삼일교  126.987507  37.568582\n",
       "4  100000005    1005  혜화동로터리.여운형활동터  127.001694  37.586230\n",
       "5  101000305    1006        서대문역사거리  126.966961  37.566208\n",
       "6  100000380    1007   서울역사박물관.경희궁앞  126.970420  37.569098\n",
       "7  100000379    1008   서울역사박물관.경희궁앞  126.970442  37.569336\n",
       "8  100000384    1009            광화문  126.975241  37.570051\n",
       "9  100000385    1010            광화문  126.978091  37.570296"
      ]
     },
     "execution_count": 21,
     "metadata": {},
     "output_type": "execute_result"
    }
   ],
   "source": [
    "st_new = pd.read_excel('20220429기준_서울시정류소리스트.xlsx')\n",
    "st_new.head(10)"
   ]
  },
  {
   "cell_type": "code",
   "execution_count": 24,
   "metadata": {},
   "outputs": [
    {
     "name": "stdout",
     "output_type": "stream",
     "text": [
      "24503          NODE_ID  ARS-ID          정류소명         좌표X        좌표Y\n",
      "10513  123000660   24503  복정역환승센터3번승강장  127.127535  37.469929\n",
      "\n",
      "10342         NODE_ID  ARS-ID     정류소명         좌표X        좌표Y\n",
      "3535  108000384   10342  한국사회봉사회  127.014778  37.661827\n",
      "\n",
      "10343         NODE_ID  ARS-ID     정류소명         좌표X        좌표Y\n",
      "3536  108000385   10343  한국사회봉사회  127.014897  37.661849\n",
      "\n",
      "16023         NODE_ID  ARS-ID   정류소명         좌표X        좌표Y\n",
      "6089  115000947   16023  강서세무서  126.821279  37.560156\n",
      "\n",
      "16024         NODE_ID  ARS-ID   정류소명         좌표X        좌표Y\n",
      "6090  115000946   16024  강서세무서  126.822702  37.560198\n",
      "\n",
      "24503          NODE_ID  ARS-ID          정류소명         좌표X        좌표Y\n",
      "10513  123000660   24503  복정역환승센터3번승강장  127.127535  37.469929\n",
      "\n",
      "24425          NODE_ID  ARS-ID      정류소명         좌표X        좌표Y\n",
      "10436  123000656   24425  호반써밋송파2차  127.140754  37.483602\n",
      "\n",
      "6310         NODE_ID  ARS-ID             정류소명         좌표X        좌표Y\n",
      "1836  105000559    6310  e편한세상청계센트럴포레아파트  127.030372  37.570676\n",
      "\n",
      "24424          NODE_ID  ARS-ID      정류소명         좌표X        좌표Y\n",
      "10435  123000655   24424  호반써밋송파1차  127.140574  37.484325\n",
      "\n",
      "24503          NODE_ID  ARS-ID          정류소명         좌표X        좌표Y\n",
      "10513  123000660   24503  복정역환승센터3번승강장  127.127535  37.469929\n",
      "\n",
      "17249         NODE_ID  ARS-ID    정류소명         좌표X        좌표Y\n",
      "6828  116000648   17249  가리봉파출소  126.891837  37.479114\n",
      "\n",
      "19015 Empty DataFrame\n",
      "Columns: [NODE_ID, ARS-ID, 정류소명, 좌표X, 좌표Y]\n",
      "Index: []\n",
      "\n",
      "20254         NODE_ID  ARS-ID              정류소명         좌표X        좌표Y\n",
      "8150  119000319   20254  사당롯데캐슬골든포레.사당해그린  126.962634  37.493055\n",
      "\n",
      "22415         NODE_ID  ARS-ID     정류소명         좌표X     좌표Y\n",
      "9243  121001327   22415  내방역1번출구  126.994755  37.488\n",
      "\n",
      "22608         NODE_ID  ARS-ID     정류소명         좌표X        좌표Y\n",
      "9395  121001329   22608  서리풀문화광장  127.005139  37.491022\n",
      "\n",
      "22426         NODE_ID  ARS-ID  정류소명         좌표X        좌표Y\n",
      "9253  121001328   22426  대법원앞  127.006702  37.491582\n",
      "\n",
      "13341         NODE_ID  ARS-ID           정류소명         좌표X        좌표Y\n",
      "4920  112000439   13341  DMC쌍용.래미안루센티아  126.918864  37.575662\n",
      "\n"
     ]
    }
   ],
   "source": [
    "for i in e_s:\n",
    "    print(i[1], st_new[st_new['ARS-ID'] == i[1]])\n",
    "    print()"
   ]
  },
  {
   "cell_type": "code",
   "execution_count": null,
   "metadata": {},
   "outputs": [],
   "source": []
  }
 ],
 "metadata": {
  "kernelspec": {
   "display_name": "Python 3",
   "language": "python",
   "name": "python3"
  },
  "language_info": {
   "codemirror_mode": {
    "name": "ipython",
    "version": 3
   },
   "file_extension": ".py",
   "mimetype": "text/x-python",
   "name": "python",
   "nbconvert_exporter": "python",
   "pygments_lexer": "ipython3",
   "version": "3.7.4"
  }
 },
 "nbformat": 4,
 "nbformat_minor": 2
}
