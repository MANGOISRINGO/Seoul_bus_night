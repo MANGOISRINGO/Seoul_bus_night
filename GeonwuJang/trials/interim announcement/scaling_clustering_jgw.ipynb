{
 "cells": [
  {
   "cell_type": "code",
   "execution_count": null,
   "metadata": {},
   "outputs": [],
   "source": [
    "import matplotlib.pyplot as plt\n",
    "import pandas as pd\n",
    "import seaborn as sns\n",
    "import glob\n",
    "import numpy as np\n",
    "plt.rcParams['font.family'] = 'Malgun Gothic' # Malgun Gothic을 적용\n",
    "plt.rcParams['axes.unicode_minus'] = False"
   ]
  },
  {
   "cell_type": "code",
   "execution_count": null,
   "metadata": {},
   "outputs": [],
   "source": [
    "df = pd.read_csv('bi_8.csv', usecols=[1,2,3,4,5,6,7], index_col=0)\n",
    "df"
   ]
  },
  {
   "cell_type": "code",
   "execution_count": null,
   "metadata": {
    "scrolled": true
   },
   "outputs": [],
   "source": [
    "df.describe()"
   ]
  },
  {
   "cell_type": "code",
   "execution_count": null,
   "metadata": {},
   "outputs": [],
   "source": [
    "from sklearn.preprocessing import MinMaxScaler\n",
    "scaler = MinMaxScaler()"
   ]
  },
  {
   "cell_type": "code",
   "execution_count": null,
   "metadata": {},
   "outputs": [],
   "source": [
    "scaler.fit(df)"
   ]
  },
  {
   "cell_type": "code",
   "execution_count": null,
   "metadata": {},
   "outputs": [],
   "source": [
    "df_scaled = scaler.transform(df)\n",
    "df_scaled.shape"
   ]
  },
  {
   "cell_type": "code",
   "execution_count": null,
   "metadata": {},
   "outputs": [],
   "source": [
    "df_scaled"
   ]
  },
  {
   "cell_type": "code",
   "execution_count": null,
   "metadata": {},
   "outputs": [],
   "source": [
    "df_scaled = df_scaled.transpose()"
   ]
  },
  {
   "cell_type": "code",
   "execution_count": null,
   "metadata": {},
   "outputs": [],
   "source": [
    "df_scaled.shape"
   ]
  },
  {
   "cell_type": "code",
   "execution_count": null,
   "metadata": {},
   "outputs": [],
   "source": [
    "df_scaled_df = pd.DataFrame({\n",
    "    '22시승차총승객수' : df_scaled[0],\n",
    "    '22시하차총승객수' : df_scaled[1],\n",
    "    '23시승차총승객수' : df_scaled[2],\n",
    "    '23시하차총승객수' : df_scaled[3],\n",
    "    '승차승객합' : df_scaled[4],\n",
    "    '하차승객합' : df_scaled[5]}, index = df.index\n",
    ")"
   ]
  },
  {
   "cell_type": "code",
   "execution_count": null,
   "metadata": {},
   "outputs": [],
   "source": [
    "df_scaled_df"
   ]
  },
  {
   "cell_type": "code",
   "execution_count": null,
   "metadata": {},
   "outputs": [],
   "source": [
    "import matplotlib.pyplot as plt"
   ]
  },
  {
   "cell_type": "code",
   "execution_count": null,
   "metadata": {
    "scrolled": true
   },
   "outputs": [],
   "source": [
    "plt.figure(figsize = (10, 10))\n",
    "plt.scatter(df_scaled_df['승차승객합'], df_scaled_df['하차승객합'], \n",
    "            c = (df_scaled_df['승차승객합'] + df_scaled_df['하차승객합']), s = 50)\n",
    "plt.colorbar()\n",
    "plt.xlabel('승차승객합')\n",
    "plt.ylabel('하차승객합')\n",
    "plt.show()"
   ]
  },
  {
   "cell_type": "code",
   "execution_count": null,
   "metadata": {},
   "outputs": [],
   "source": [
    "df_scaled_df['popular'] = (df_scaled_df['승차승객합'] + df_scaled_df['하차승객합']) / 2\n",
    "df_sort = df_scaled_df.sort_values(by = 'popular', ascending=False)\n",
    "df_sort"
   ]
  },
  {
   "cell_type": "code",
   "execution_count": null,
   "metadata": {},
   "outputs": [],
   "source": [
    "plt.figure(figsize = (10, 9))\n",
    "plt.scatter(df_sort['승차승객합'], df_sort['하차승객합'], \n",
    "            c = (df_sort['승차승객합'] + df_sort['하차승객합']), s = 50)\n",
    "\n",
    "for n in range(20):\n",
    "    plt.text(df_sort['승차승객합'][n]*1.01, df_sort['하차승객합'][n]*(0.97), df_sort.index[n], fontsize = 11)\n",
    "\n",
    "plt.colorbar()\n",
    "plt.xlabel('승차승객합')\n",
    "plt.ylabel('하차승객합')\n",
    "plt.show()"
   ]
  },
  {
   "cell_type": "code",
   "execution_count": null,
   "metadata": {},
   "outputs": [],
   "source": [
    "# standard scaler\n",
    "from sklearn.preprocessing import StandardScaler\n",
    "scaler2 = StandardScaler()\n",
    "\n",
    "df = pd.read_csv('bi_8.csv', usecols=[1,2,3,4,5,6,7], index_col=0)\n",
    "df"
   ]
  },
  {
   "cell_type": "code",
   "execution_count": null,
   "metadata": {},
   "outputs": [],
   "source": [
    "scaler2.fit(df)"
   ]
  },
  {
   "cell_type": "code",
   "execution_count": null,
   "metadata": {},
   "outputs": [],
   "source": [
    "df_scaled2 = scaler2.transform(df)\n",
    "df_scaled2.shape"
   ]
  },
  {
   "cell_type": "code",
   "execution_count": null,
   "metadata": {},
   "outputs": [],
   "source": [
    "type(df_scaled2)"
   ]
  },
  {
   "cell_type": "code",
   "execution_count": null,
   "metadata": {},
   "outputs": [],
   "source": [
    "df_scaled2 = df_scaled2.transpose()"
   ]
  },
  {
   "cell_type": "code",
   "execution_count": null,
   "metadata": {},
   "outputs": [],
   "source": [
    "df_scaled_df2 = pd.DataFrame({\n",
    "    '22시승차총승객수' : df_scaled2[0],\n",
    "    '22시하차총승객수' : df_scaled2[1],\n",
    "    '23시승차총승객수' : df_scaled2[2],\n",
    "    '23시하차총승객수' : df_scaled2[3],\n",
    "    '승차승객합' : df_scaled2[4],\n",
    "    '하차승객합' : df_scaled2[5]\n",
    "}, index = df.index\n",
    ")"
   ]
  },
  {
   "cell_type": "code",
   "execution_count": null,
   "metadata": {},
   "outputs": [],
   "source": [
    "plt.figure(figsize = (10, 10))\n",
    "plt.scatter(df_scaled_df2['승차승객합'], df_scaled_df2['하차승객합'], \n",
    "            c = (df_scaled_df2['승차승객합'] + df_scaled_df2['하차승객합']), s = 50)\n",
    "plt.colorbar()\n",
    "plt.xlabel('승차승객합')\n",
    "plt.ylabel('하차승객합')\n",
    "plt.show()"
   ]
  },
  {
   "cell_type": "code",
   "execution_count": null,
   "metadata": {},
   "outputs": [],
   "source": [
    "df_scaled_df2['popular'] = (df_scaled_df2['승차승객합'] + df_scaled_df2['하차승객합']) / 2\n",
    "df_sort2 = df_scaled_df2.sort_values(by = 'popular', ascending=False)\n",
    "df_sort2"
   ]
  },
  {
   "cell_type": "code",
   "execution_count": null,
   "metadata": {},
   "outputs": [],
   "source": [
    "plt.figure(figsize = (10, 9))\n",
    "plt.scatter(df_sort2['승차승객합'], df_sort2['하차승객합'], \n",
    "            c = (df_sort2['승차승객합'] + df_sort2['하차승객합']), s = 50)\n",
    "\n",
    "for n in range(20):\n",
    "    plt.text(df_sort2['승차승객합'][n]*1.01, df_sort2['하차승객합'][n]*(0.97), df_sort2.index[n], fontsize = 11)\n",
    "\n",
    "plt.colorbar()\n",
    "plt.xlabel('승차승객합')\n",
    "plt.ylabel('하차승객합')\n",
    "plt.show()"
   ]
  },
  {
   "cell_type": "code",
   "execution_count": null,
   "metadata": {},
   "outputs": [],
   "source": [
    "# 클러스터링 구현\n",
    "from sklearn.cluster import KMeans\n",
    "\n",
    "dX = np.array([list(df_sort['승차승객합']), list(df_sort['하차승객합'])])\n",
    "dX = dX.transpose()\n"
   ]
  },
  {
   "cell_type": "code",
   "execution_count": null,
   "metadata": {},
   "outputs": [],
   "source": [
    "dX.shape"
   ]
  },
  {
   "cell_type": "code",
   "execution_count": null,
   "metadata": {},
   "outputs": [],
   "source": [
    "kmeans = KMeans(n_clusters=4)\n",
    "kmeans.fit(dX)"
   ]
  },
  {
   "cell_type": "code",
   "execution_count": null,
   "metadata": {},
   "outputs": [],
   "source": [
    "cluster_li = (kmeans.predict(dX))"
   ]
  },
  {
   "cell_type": "code",
   "execution_count": null,
   "metadata": {},
   "outputs": [],
   "source": [
    "color_li = ['red','orange','yellow','green']\n",
    "\n",
    "plt.figure(figsize = (10, 9))\n",
    "for i in range(350):\n",
    "    plt.scatter(df_sort['승차승객합'][i], df_sort['하차승객합'][i], \n",
    "                c = color_li[cluster_li[i]], s = 50)\n",
    "\n",
    "for n in range(20):\n",
    "    plt.text(df_sort['승차승객합'][n]*1.01, df_sort['하차승객합'][n]*(0.97), df_sort.index[n], fontsize = 11)\n",
    "\n",
    "plt.xlabel('승차승객합')\n",
    "plt.ylabel('하차승객합')\n",
    "plt.show()"
   ]
  },
  {
   "cell_type": "code",
   "execution_count": null,
   "metadata": {},
   "outputs": [],
   "source": [
    "import folium\n",
    "import json\n",
    "from folium import plugins "
   ]
  },
  {
   "cell_type": "code",
   "execution_count": null,
   "metadata": {},
   "outputs": [],
   "source": [
    "geo_path = 'skorea-submunicipalities-2018-geo.json'\n",
    "geo_str = json.load(open(geo_path, encoding = 'utf-8'))\n",
    "\n",
    "map = folium.Map(location = [37.5502, 126.982], zoom_start = 10.5)\n",
    "folium.GeoJson(geo_str).add_to(map)\n",
    "\n",
    "map"
   ]
  },
  {
   "cell_type": "code",
   "execution_count": null,
   "metadata": {},
   "outputs": [],
   "source": [
    "map = folium.Map(location = [37.5502, 126.982], zoom_start = 10.5)\n",
    "# folium.GeoJson(geo_str).add_to(map)\n",
    "\n",
    "plugins.Fullscreen(\n",
    "    position='topright',\n",
    "    title='Expand me',\n",
    "    title_cancel='Exit me',\n",
    "    force_separate_button=True\n",
    ").add_to(map)\n",
    "\n",
    "cp = folium.Choropleth(geo_data = geo_str, data = df_sort['popular'],\n",
    "              columns = [df_sort.index, df_sort['popular']],\n",
    "              fill_color = 'PuRd', key_on = 'properties.name', highlight=True).add_to(map)\n",
    "\n",
    "folium.GeoJsonTooltip(['name']).add_to(cp.geojson)\n",
    "\n",
    "map"
   ]
  },
  {
   "cell_type": "code",
   "execution_count": null,
   "metadata": {},
   "outputs": [],
   "source": [
    "df_sort[df_sort.index == '청룡동']"
   ]
  },
  {
   "cell_type": "code",
   "execution_count": null,
   "metadata": {},
   "outputs": [],
   "source": [
    "dong = pd.read_excel('../../Statistical Learning/dong.xlsx', usecols='H:L', index_col=4)\n",
    "dong.head()"
   ]
  },
  {
   "cell_type": "code",
   "execution_count": null,
   "metadata": {},
   "outputs": [],
   "source": [
    "dong = dong.drop(['lat', 'lng'], axis=1)"
   ]
  },
  {
   "cell_type": "code",
   "execution_count": null,
   "metadata": {},
   "outputs": [],
   "source": [
    "df_group = dong.groupby(dong.index).sum()\n",
    "df_group"
   ]
  },
  {
   "cell_type": "code",
   "execution_count": null,
   "metadata": {},
   "outputs": [],
   "source": [
    "scaler = MinMaxScaler()\n",
    "scaler.fit(df_group)\n",
    "\n",
    "scaled_group = scaler.transform(df_group)\n",
    "\n",
    "scaled_group = scaled_group.transpose()\n",
    "\n",
    "df_scaled_group = pd.DataFrame({\n",
    "    '승차승객합' : scaled_group[0],\n",
    "    '하차승객합' : scaled_group[1]}, index = df_group.index\n",
    ")"
   ]
  },
  {
   "cell_type": "code",
   "execution_count": null,
   "metadata": {},
   "outputs": [],
   "source": [
    "df_scaled_group['popular'] = df_scaled_group['승차승객합'] + df_scaled_group['하차승객합']"
   ]
  },
  {
   "cell_type": "code",
   "execution_count": null,
   "metadata": {},
   "outputs": [],
   "source": [
    "import math\n",
    "log_li = []\n",
    "for i in df_scaled_group['popular']:\n",
    "    log_li.append(math.log10(i+1))\n",
    "# len(log_li)\n",
    "df_scaled_group['pop_log'] = log_li"
   ]
  },
  {
   "cell_type": "code",
   "execution_count": null,
   "metadata": {},
   "outputs": [],
   "source": [
    "index_li = []\n",
    "for i in df_scaled_group.index:\n",
    "    index_li.append(i.replace('.', '·'))\n",
    "index_li    "
   ]
  },
  {
   "cell_type": "code",
   "execution_count": null,
   "metadata": {},
   "outputs": [],
   "source": [
    "df_scaled_group.index = index_li\n",
    "df_scaled_group[df_scaled_group.index == '금호2·3가동']"
   ]
  },
  {
   "cell_type": "code",
   "execution_count": null,
   "metadata": {},
   "outputs": [],
   "source": [
    "map = folium.Map(location = [37.5502, 126.982], zoom_start = 10.5)\n",
    "# folium.GeoJson(geo_str).add_to(map)\n",
    "\n",
    "plugins.Fullscreen(\n",
    "    position='topright',\n",
    "    title='Expand me',\n",
    "    title_cancel='Exit me',\n",
    "    force_separate_button=True\n",
    ").add_to(map)\n",
    "\n",
    "cp = folium.Choropleth(geo_data = geo_str, data = df_scaled_group['pop_log'],\n",
    "              columns = [df_scaled_group.index, df_scaled_group['pop_log']],\n",
    "              fill_color = 'PuRd', key_on = 'properties.name', highlight=True).add_to(map)\n",
    "\n",
    "folium.GeoJsonTooltip(['name']).add_to(cp.geojson)\n",
    "\n",
    "map"
   ]
  },
  {
   "cell_type": "code",
   "execution_count": null,
   "metadata": {},
   "outputs": [],
   "source": [
    "df_scaled_group[df_scaled_group.index == '구로동']"
   ]
  },
  {
   "cell_type": "code",
   "execution_count": null,
   "metadata": {},
   "outputs": [],
   "source": []
  }
 ],
 "metadata": {
  "kernelspec": {
   "display_name": "Python 3",
   "language": "python",
   "name": "python3"
  },
  "language_info": {
   "codemirror_mode": {
    "name": "ipython",
    "version": 3
   },
   "file_extension": ".py",
   "mimetype": "text/x-python",
   "name": "python",
   "nbconvert_exporter": "python",
   "pygments_lexer": "ipython3",
   "version": "3.7.4"
  }
 },
 "nbformat": 4,
 "nbformat_minor": 2
}
